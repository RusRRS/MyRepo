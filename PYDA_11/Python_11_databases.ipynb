{
 "cells": [
  {
   "cell_type": "markdown",
   "metadata": {},
   "source": [
    "## Python для работы с базами данных"
   ]
  },
  {
   "cell_type": "markdown",
   "metadata": {},
   "source": [
    "Изменения в Vagrantfile:\n",
    "1. Перед запуском виртуалки раскомментировать строку 50\n",
    "```bash\n",
    "config.vm.network \"forwarded_port\", guest: 5432, host: 5432, host_ip: \"127.0.0.1\"\n",
    "```\n",
    "\n",
    "2. На виртуалке меняем в конфигурационном файле postgresql метод аутентификации (в редакторе nano после внесения изменений нажимаем Ctrl+x и на вопрос отвечаем y + enter):\n",
    "```bash\n",
    "sudo nano /etc/postgresql/10/main/pg_hba.conf\n",
    "```\n",
    "\n",
    "Находим строчку (в конце файла)\n",
    "```bash\n",
    "# Database administrative login by Unix domain socket\n",
    "local   all             postgres                                peer\n",
    "```\n",
    "\n",
    "меняем peer на md5\n",
    "```bash\n",
    "local   all             postgres                                md5\n",
    "```\n",
    "\n",
    "и разрешаем подключения извне (меняем 127.0.0.1/32 на 0.0.0.0/0)\n",
    "```bash\n",
    "# IPv4 local connections:\n",
    "host    all             all             0.0.0.0/0            md5\n",
    "```\n",
    "\n",
    "В файле конфигураций разрешаем слушать все IP-адреса\n",
    "```bash\n",
    "sudo nano /etc/postgresql/10/main/postgresql.conf\n",
    "# находим строчку с listen_addresses и меняем значение на\n",
    "listen_addresses = '*'\n",
    "```\n",
    "\n",
    "В конце перезапускаем postgresql\n",
    "```bash\n",
    "sudo service postgresql restart\n",
    "```\n",
    "\n",
    "3. Заходим под пользователем postgres и добавляем в базу пользователя с правами на чтение\n",
    "```bash\n",
    "sudo su -l postgres\n",
    "psql -U postgres -c \"CREATE ROLE readaccess;\"\n",
    "psql -U postgres -c \"GRANT SELECT ON ALL TABLES IN SCHEMA public TO readaccess;\"\n",
    "psql -U postgres -c \"ALTER DEFAULT PRIVILEGES IN SCHEMA public GRANT SELECT ON TABLES TO readaccess;\"\n",
    "psql -U postgres -c \"CREATE USER ds WITH PASSWORD 'ds';\"\n",
    "psql -U postgres -c \"GRANT readaccess TO ds;\"\n",
    "```"
   ]
  },
  {
   "cell_type": "code",
   "execution_count": null,
   "metadata": {},
   "outputs": [],
   "source": [
    "import psycopg2"
   ]
  },
  {
   "cell_type": "code",
   "execution_count": null,
   "metadata": {},
   "outputs": [],
   "source": [
    "# инициализируем соединение с базой данных\n",
    "conn = psycopg2.connect(\"dbname='postgres' user='ds' host='127.0.0.1' password='ds'\")"
   ]
  },
  {
   "cell_type": "code",
   "execution_count": null,
   "metadata": {},
   "outputs": [],
   "source": [
    "cur = conn.cursor()"
   ]
  },
  {
   "cell_type": "code",
   "execution_count": null,
   "metadata": {},
   "outputs": [],
   "source": [
    "# для больших запросов\n",
    "cur.itersize = 10000"
   ]
  },
  {
   "cell_type": "code",
   "execution_count": null,
   "metadata": {},
   "outputs": [],
   "source": [
    "# отправляем запрос\n",
    "cur.execute('SELECT COUNT(*) FROM ratings;')"
   ]
  },
  {
   "cell_type": "code",
   "execution_count": null,
   "metadata": {},
   "outputs": [],
   "source": [
    "# получаем все строки ответа\n",
    "cur.fetchall()"
   ]
  },
  {
   "cell_type": "code",
   "execution_count": null,
   "metadata": {},
   "outputs": [],
   "source": [
    "cur.execute('SELECT * FROM ratings order by userid limit 10;')"
   ]
  },
  {
   "cell_type": "code",
   "execution_count": null,
   "metadata": {},
   "outputs": [],
   "source": [
    "for row in cur:\n",
    "    print(row)"
   ]
  },
  {
   "cell_type": "markdown",
   "metadata": {},
   "source": [
    "### Немного про запросы в MySQL"
   ]
  },
  {
   "cell_type": "code",
   "execution_count": null,
   "metadata": {},
   "outputs": [],
   "source": [
    "# для тяжелых запросов к MySQL можно использовать SSDictCursor\n",
    "import pymysql\n",
    "\n",
    "connection = pymysql.connect(\n",
    "    host = 'dbhost',\n",
    "    port = 3306,\n",
    "    user = 'dbuser',\n",
    "    password = 'dbpass',\n",
    "    db = 'db',\n",
    "    cursorclass = pymysql.cursors.SSDictCursor\n",
    ")\n",
    "\n",
    "with connection.cursor() as cursor:\n",
    "    cursor.execute(sqlQuery)\n",
    "\n",
    "    for line in cursor:\n",
    "        print(line)"
   ]
  },
  {
   "cell_type": "markdown",
   "metadata": {},
   "source": [
    "### Базы данных и pandas"
   ]
  },
  {
   "cell_type": "code",
   "execution_count": null,
   "metadata": {},
   "outputs": [],
   "source": [
    "import pandas as pd"
   ]
  },
  {
   "cell_type": "code",
   "execution_count": null,
   "metadata": {},
   "outputs": [],
   "source": [
    "data = pd.read_sql('SELECT * FROM ratings limit 10;', conn)\n",
    "data"
   ]
  },
  {
   "cell_type": "markdown",
   "metadata": {},
   "source": [
    "## Персональные данные"
   ]
  },
  {
   "cell_type": "code",
   "execution_count": null,
   "metadata": {},
   "outputs": [],
   "source": [
    "# плохой вариант для аналитики\n",
    "database_rows = [\n",
    "    {'name': 'Наталья', 'email': 'nata123@mail.ru', 'ip': '127.0.0.1'},\n",
    "    {'name': 'Михаил', 'email': 'mikha@yandex.ru', 'ip': '127.0.0.1'},\n",
    "]"
   ]
  },
  {
   "cell_type": "code",
   "execution_count": null,
   "metadata": {},
   "outputs": [],
   "source": [
    "import hashlib"
   ]
  },
  {
   "cell_type": "code",
   "execution_count": null,
   "metadata": {},
   "outputs": [],
   "source": [
    "hashlib.algorithms_available"
   ]
  },
  {
   "cell_type": "code",
   "execution_count": null,
   "metadata": {},
   "outputs": [],
   "source": [
    "email = 'username@yandex.ru'"
   ]
  },
  {
   "cell_type": "code",
   "execution_count": null,
   "metadata": {},
   "outputs": [],
   "source": [
    "m = hashlib.sha256()\n",
    "\n",
    "m.update(bytes(email, 'utf-8'))\n",
    "m.hexdigest()"
   ]
  },
  {
   "cell_type": "markdown",
   "metadata": {},
   "source": [
    "### Передача сообщений\n",
    "Проблема [Man in the middle](https://ru.wikipedia.org/wiki/%D0%90%D1%82%D0%B0%D0%BA%D0%B0_%D0%BF%D0%BE%D1%81%D1%80%D0%B5%D0%B4%D0%BD%D0%B8%D0%BA%D0%B0)"
   ]
  },
  {
   "cell_type": "code",
   "execution_count": null,
   "metadata": {},
   "outputs": [],
   "source": [
    "message = 'Согласуете отпуск на следующей неделе?'"
   ]
  },
  {
   "cell_type": "code",
   "execution_count": null,
   "metadata": {},
   "outputs": [],
   "source": [
    "correct_answer = 'Да'\n",
    "corrupted_answer = 'Нет'"
   ]
  },
  {
   "cell_type": "markdown",
   "metadata": {},
   "source": [
    "Заранее договоримся с руководителем добавлять в конец каждого сообщения. Кроме вас и руководителя никто не должен знать это значение."
   ]
  },
  {
   "cell_type": "code",
   "execution_count": null,
   "metadata": {},
   "outputs": [],
   "source": [
    "seed = '123'"
   ]
  },
  {
   "cell_type": "markdown",
   "metadata": {},
   "source": [
    "К каждому сообщению добавляем seed и считаем хэш:"
   ]
  },
  {
   "cell_type": "code",
   "execution_count": null,
   "metadata": {},
   "outputs": [],
   "source": [
    "sending_message = correct_answer + seed\n",
    "sending_message"
   ]
  },
  {
   "cell_type": "markdown",
   "metadata": {},
   "source": [
    "Вместе с sending_message передаем хэш"
   ]
  },
  {
   "cell_type": "code",
   "execution_count": null,
   "metadata": {},
   "outputs": [],
   "source": [
    "m = hashlib.sha256()\n",
    "\n",
    "m.update(bytes(sending_message, 'utf-8'))\n",
    "m.hexdigest()"
   ]
  },
  {
   "cell_type": "markdown",
   "metadata": {},
   "source": [
    "Если злоумышленник перехватит и изменит сообщение, то без seed он не сможет посчитать нужное значение хэша. Когда вы получаете сообщение, то добавляете к нему seed, считаете хэш и сравниваете с тем, что приложен к сообщению:"
   ]
  },
  {
   "cell_type": "code",
   "execution_count": null,
   "metadata": {},
   "outputs": [],
   "source": [
    "received_message = 'Нет'"
   ]
  },
  {
   "cell_type": "code",
   "execution_count": null,
   "metadata": {
    "scrolled": true
   },
   "outputs": [],
   "source": [
    "m = hashlib.sha256()\n",
    "\n",
    "m.update(bytes(received_message, 'utf-8'))\n",
    "m.hexdigest()"
   ]
  },
  {
   "cell_type": "markdown",
   "metadata": {},
   "source": [
    "Хэш получился другой, значит сообщение изменено!\n",
    "\n",
    "В случае неизмененного сообщения хэши совпадут:"
   ]
  },
  {
   "cell_type": "code",
   "execution_count": null,
   "metadata": {},
   "outputs": [],
   "source": [
    "m = hashlib.sha256()\n",
    "\n",
    "m.update(bytes(correct_answer + seed, 'utf-8'))\n",
    "m.hexdigest()"
   ]
  },
  {
   "cell_type": "markdown",
   "metadata": {},
   "source": [
    "### Упражнение\n",
    "Зашифруйте персональные данные в списке database_rows"
   ]
  },
  {
   "cell_type": "code",
   "execution_count": null,
   "metadata": {},
   "outputs": [],
   "source": []
  },
  {
   "cell_type": "code",
   "execution_count": null,
   "metadata": {},
   "outputs": [],
   "source": []
  }
 ],
 "metadata": {
  "kernelspec": {
   "display_name": "Python 3",
   "language": "python",
   "name": "python3"
  },
  "language_info": {
   "codemirror_mode": {
    "name": "ipython",
    "version": 3
   },
   "file_extension": ".py",
   "mimetype": "text/x-python",
   "name": "python",
   "nbconvert_exporter": "python",
   "pygments_lexer": "ipython3",
   "version": "3.6.4"
  }
 },
 "nbformat": 4,
 "nbformat_minor": 2
}
