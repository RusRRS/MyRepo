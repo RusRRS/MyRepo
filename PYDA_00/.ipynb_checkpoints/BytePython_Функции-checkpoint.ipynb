{
 "cells": [
  {
   "cell_type": "markdown",
   "metadata": {},
   "source": [
    "## Функции"
   ]
  },
  {
   "cell_type": "code",
   "execution_count": 2,
   "metadata": {},
   "outputs": [
    {
     "name": "stdout",
     "output_type": "stream",
     "text": [
      "Привет, Мир!\n",
      "Привет, Мир!\n"
     ]
    }
   ],
   "source": [
    "# Первый пример функции\n",
    "def sayHello():\n",
    "    print('Привет, Мир!') # блок, принадлежащий функции\n",
    "# Конец функции\n",
    "\n",
    "sayHello() # вызов функции\n",
    "sayHello() # ещё один вызов функции"
   ]
  },
  {
   "cell_type": "code",
   "execution_count": 8,
   "metadata": {},
   "outputs": [],
   "source": [
    "# 10.1. Параметры функций\n",
    "def printMax(a, b):\n",
    "    if a > b:\n",
    "        print(a, 'максимально')\n",
    "    elif a == b:\n",
    "        print(a, 'равно', b)\n",
    "    else:\n",
    "        print(b, 'максимально')"
   ]
  },
  {
   "cell_type": "code",
   "execution_count": 11,
   "metadata": {},
   "outputs": [
    {
     "name": "stdout",
     "output_type": "stream",
     "text": [
      "4 максимально\n",
      "7 максимально\n"
     ]
    }
   ],
   "source": [
    "printMax(3, 4) # прямая передача значений\n",
    "x = 5\n",
    "y = 7\n",
    "printMax(x, y) # передача переменных в качестве аргументов"
   ]
  },
  {
   "cell_type": "code",
   "execution_count": 14,
   "metadata": {},
   "outputs": [
    {
     "name": "stdout",
     "output_type": "stream",
     "text": [
      "x равен 50\n",
      "Замена локального x на 2\n",
      "x по прежнему 50\n"
     ]
    }
   ],
   "source": [
    "# 10.2 Локальные переменные\n",
    "# При объявлении переменных внутри определения функции, они не связаны с другими\n",
    "# переменными с таким же именем за пределами функции – т.е. имена переменных являются локальными в функции. \n",
    "# Это называется областью видимости переменной. \n",
    "# Область видимости всех переменных ограничена блоком, в котором они объявлены, начиная с точки объявления имени.\n",
    "x = 50 # Объявили переменную Х\n",
    "\n",
    "# Заводим функцию от х\n",
    "def func(x):\n",
    "    print('x равен', x)\n",
    "    x = 2\n",
    "    print('Замена локального x на', x)\n",
    "\n",
    "func(x) # выводим данные по x\n",
    "# заводим функцию в нее заводится x=50, потом внутри функции изменяется x на 2. \n",
    "print('x по прежнему', x) # х не в функции остался 50"
   ]
  },
  {
   "cell_type": "markdown",
   "metadata": {},
   "source": [
    "Как это работает:\n",
    "При первом выводе значения, присвоенного имени x, в первой строке функции Python использует значение параметра, объявленного в основном блоке, выше определения функции.\n",
    "Далее мы назначаем x значение 2. Имя x локально для нашей функции. Поэтому когда мы заменяем значение x в функции, x, объявленный в основном блоке, остаётся незатронутым.\n",
    "Последним вызовом функции print мы выводим значение x, указанное в основном блоке, подтверждая таким образом, что оно не изменилось при локальном присваивании значения в ранее вызванной функции."
   ]
  },
  {
   "cell_type": "code",
   "execution_count": 15,
   "metadata": {},
   "outputs": [
    {
     "name": "stdout",
     "output_type": "stream",
     "text": [
      "x равно 50\n",
      "Заменяем глобальное значение x на 2\n",
      "Значение x составляет 2\n"
     ]
    }
   ],
   "source": [
    "# Глобальная переменная\n",
    "x = 50\n",
    "def func():\n",
    "    global x\n",
    "    print('x равно', x)\n",
    "    x = 2\n",
    "    print('Заменяем глобальное значение x на', x)\n",
    "\n",
    "func()\n",
    "print('Значение x составляет', x)"
   ]
  },
  {
   "cell_type": "markdown",
   "metadata": {},
   "source": [
    "Как это работает:\n",
    "Зарезервированное слово global используется для того, чтобы объявить, что x – это глобальная переменная, а значит, когда мы присваиваем значение имени x внутри функции, это изменение отразится на значении переменной x в основном блоке программы.\n",
    "Используя одно зарезервированное слово global, можно объявить сразу несколько переменных: global x, y, z."
   ]
  },
  {
   "cell_type": "code",
   "execution_count": 16,
   "metadata": {},
   "outputs": [
    {
     "name": "stdout",
     "output_type": "stream",
     "text": [
      "x равно 2\n",
      "Локальное x сменилось на 5\n"
     ]
    }
   ],
   "source": [
    "# 10.4 Зарезервированное слово «nonlocal». Используется при функция внутри функций.\n",
    "def func_outer():\n",
    "    x = 2\n",
    "    print('x равно', x)\n",
    "    def func_inner():\n",
    "        nonlocal x\n",
    "        x = 5\n",
    "    func_inner()\n",
    "    print('Локальное x сменилось на', x)\n",
    "func_outer()"
   ]
  },
  {
   "cell_type": "markdown",
   "metadata": {},
   "source": [
    "Как это работает:\n",
    "Когда мы находимся внутри func_inner, переменная x, определённая в первой строке func_outer находится ни в локальной области видимости (определение переменной не входит в блок func_inner), ни в глобальной области видимости (она также и не в основном блоке программы). Мы объявляем, что хотим использовать именно эту переменную x, следующим образом: nonlocal x.\n",
    "Попробуйте заменить «nonlocal x» на «global x», а затем удалить это зарезервированное слово, и пронаблюдайте за разницей между этими двумя случаями."
   ]
  },
  {
   "cell_type": "code",
   "execution_count": 19,
   "metadata": {},
   "outputs": [
    {
     "name": "stdout",
     "output_type": "stream",
     "text": [
      "Привет\n",
      "МирМирМирМирМир\n"
     ]
    }
   ],
   "source": [
    "# 10.5 Значения аргументов по умолчанию. \n",
    "# В некоторых функциях подразумеваются определенные значения по умолчанию, если не указать их.\n",
    "\n",
    "def say(message, times = 1):\n",
    "    print(message * times)\n",
    "\n",
    "# Функция выводит сообщение. Есть дополнительный аргумент times, по умолчанию 1.\n",
    "say('Привет') # Вывод функции по умолчанию \n",
    "say('Мир', 5) # Вывод функции с заданным параметровм times "
   ]
  },
  {
   "cell_type": "code",
   "execution_count": 20,
   "metadata": {},
   "outputs": [],
   "source": [
    "# Ctrl + / - Закомментировать строку"
   ]
  },
  {
   "cell_type": "code",
   "execution_count": 21,
   "metadata": {},
   "outputs": [
    {
     "name": "stdout",
     "output_type": "stream",
     "text": [
      "a равно 3 , b равно 7 , а c равно 10\n",
      "a равно 25 , b равно 5 , а c равно 24\n",
      "a равно 100 , b равно 5 , а c равно 50\n"
     ]
    }
   ],
   "source": [
    "# 10.6 Ключевые аргументы\n",
    "def func(a, b=5, c=10):\n",
    "    print('a равно', a, ', b равно', b, ', а c равно', c)\n",
    "func(3, 7)\n",
    "func(25, c=24)\n",
    "func(c=50, a=100)"
   ]
  },
  {
   "cell_type": "markdown",
   "metadata": {},
   "source": [
    "Как это работает:\n",
    "Функция с именем func имеет один параметр без значения по умолчанию, за которым следуют два параметра со значениями по умолчанию.\n",
    "При первом вызове, func(3, 7), параметр a получает значение 3, параметр b получает значение 7, а c получает своё значение по умолчанию, равное 10.\n",
    "При втором вызове func(25, c=24) переменная a получает значение 25 в силу позиции аргумента. После этого параметр c получает значение 24 по имени,т.е. как ключевой параметр. \n",
    "Переменная b получает значение по умолчанию, равное 5.\n",
    "При третьем обращении func(c=50, a=100) мы используем ключевые аргументы для всех указанных значений. \n",
    "Обратите внимание на то, что мы указываем значение для параметра c перед значением для a, даже несмотря на то, что в определении функции параметр a указан раньше c."
   ]
  },
  {
   "cell_type": "code",
   "execution_count": 23,
   "metadata": {},
   "outputs": [
    {
     "name": "stdout",
     "output_type": "stream",
     "text": [
      "166\n"
     ]
    }
   ],
   "source": [
    "# 10.7 Переменное число параметров\n",
    "# Иногда бывает нужно определить функцию, способную принимать любое число параметров. \n",
    "# Этого можно достичь при помощи звёздочек:\n",
    "\n",
    "def total(initial=5, *numbers, **keywords):\n",
    "    count = initial\n",
    "    for number in numbers:\n",
    "        count += number\n",
    "    for key in keywords:\n",
    "        count += keywords[key]\n",
    "    return count\n",
    "\n",
    "print(total(10, 1, 2, 3, vegetables=50, fruits=100))"
   ]
  },
  {
   "cell_type": "markdown",
   "metadata": {},
   "source": [
    "Как это работает:\n",
    "Когда мы объявляем параметр со звёздочкой (например, *param), все позици-\n",
    "онные аргументы начиная с этой позиции и до конца будут собраны в кортеж\n",
    "под именем param.\n",
    "Аналогично, когда мы объявляем параметры с двумя звёздочками (**param),\n",
    "все ключевые аргументы начиная с этой позиции и до конца будут собраны\n",
    "в словарь под именем param.\n",
    "Мы изучим кортежи и словари в одной из последующих глав."
   ]
  },
  {
   "cell_type": "code",
   "execution_count": 25,
   "metadata": {},
   "outputs": [
    {
     "name": "stdout",
     "output_type": "stream",
     "text": [
      "66\n"
     ]
    },
    {
     "ename": "TypeError",
     "evalue": "total() missing 1 required keyword-only argument: 'extra_number'",
     "output_type": "error",
     "traceback": [
      "\u001b[1;31m---------------------------------------------------------------------------\u001b[0m",
      "\u001b[1;31mTypeError\u001b[0m                                 Traceback (most recent call last)",
      "\u001b[1;32m<ipython-input-25-aff07946cfc2>\u001b[0m in \u001b[0;36m<module>\u001b[1;34m()\u001b[0m\n\u001b[0;32m     11\u001b[0m \u001b[1;33m\u001b[0m\u001b[0m\n\u001b[0;32m     12\u001b[0m \u001b[0mtotal\u001b[0m\u001b[1;33m(\u001b[0m\u001b[1;36m10\u001b[0m\u001b[1;33m,\u001b[0m \u001b[1;36m1\u001b[0m\u001b[1;33m,\u001b[0m \u001b[1;36m2\u001b[0m\u001b[1;33m,\u001b[0m \u001b[1;36m3\u001b[0m\u001b[1;33m,\u001b[0m \u001b[0mextra_number\u001b[0m\u001b[1;33m=\u001b[0m\u001b[1;36m50\u001b[0m\u001b[1;33m)\u001b[0m\u001b[1;33m\u001b[0m\u001b[0m\n\u001b[1;32m---> 13\u001b[1;33m \u001b[0mtotal\u001b[0m\u001b[1;33m(\u001b[0m\u001b[1;36m10\u001b[0m\u001b[1;33m,\u001b[0m \u001b[1;36m1\u001b[0m\u001b[1;33m,\u001b[0m \u001b[1;36m2\u001b[0m\u001b[1;33m,\u001b[0m \u001b[1;36m3\u001b[0m\u001b[1;33m)\u001b[0m\u001b[1;33m\u001b[0m\u001b[0m\n\u001b[0m\u001b[0;32m     14\u001b[0m \u001b[1;31m# Вызовет ошибку, поскольку мы не указали значение\u001b[0m\u001b[1;33m\u001b[0m\u001b[1;33m\u001b[0m\u001b[0m\n\u001b[0;32m     15\u001b[0m \u001b[1;31m# аргумента по умолчанию для 'extra_number'.\u001b[0m\u001b[1;33m\u001b[0m\u001b[1;33m\u001b[0m\u001b[0m\n",
      "\u001b[1;31mTypeError\u001b[0m: total() missing 1 required keyword-only argument: 'extra_number'"
     ]
    }
   ],
   "source": [
    "# 10.8 Только ключевые параметры\n",
    "# Если некоторые ключевые параметры должны быть доступны только по ключу, а не как\n",
    "# позиционные аргументы, их можно объявить после параметра со звёздочкой\n",
    "\n",
    "def total(initial=5, *numbers, extra_number):\n",
    "    count = initial\n",
    "    for number in numbers:\n",
    "        count += number\n",
    "    count += extra_number\n",
    "    print(count)\n",
    "\n",
    "total(10, 1, 2, 3, extra_number=50)\n",
    "total(10, 1, 2, 3)\n",
    "# Вызовет ошибку, поскольку мы не указали значение\n",
    "# аргумента по умолчанию для 'extra_number'."
   ]
  },
  {
   "cell_type": "markdown",
   "metadata": {},
   "source": [
    "Как это работает:\n",
    "Объявление параметров после параметра со звёздочкой даёт только ключевые аргументы. \n",
    "Если для таких аргументов не указано значение по умолчанию, и оно не передано при вызове, обращение к функции вызовет ошибку, \n",
    "в чём мы только что убедились. Обратите внимание на использование +=, который представляет собой сокращённый оператор, позволяющий вместо x = x + y просто написать x +=y.\n",
    "Если вам нужны аргументы, передаваемые только по ключу, но не нужен параметр со звёздочкой, то можно просто указать одну звёздочку без указания имени: def total(initial=5, *, extra_number)."
   ]
  },
  {
   "cell_type": "code",
   "execution_count": 28,
   "metadata": {},
   "outputs": [
    {
     "name": "stdout",
     "output_type": "stream",
     "text": [
      "3\n"
     ]
    }
   ],
   "source": [
    "# 10.9 Оператор «return»\n",
    "# Оператор return используется для возврата5 из функции, т.е. для прекращения её работы\n",
    "# и выхода из неё. При этом можно также вернуть некоторое значение из функции.\n",
    "\n",
    "def maximum(x, y):\n",
    "    if x > y:\n",
    "        return x\n",
    "    elif x == y:\n",
    "        return 'Числа равны.'\n",
    "    else:\n",
    "        return y\n",
    "print(maximum(2, 3))"
   ]
  },
  {
   "cell_type": "code",
   "execution_count": 37,
   "metadata": {},
   "outputs": [
    {
     "name": "stdout",
     "output_type": "stream",
     "text": [
      "5 наибольшее\n",
      "Выводит максимальное из двух чисел. Оба значения должны быть целыми числами.\n"
     ]
    }
   ],
   "source": [
    "# 10.10 Строки документации\n",
    "# Python имеет остроумную особенность, называемую строками документации, обычно обозначаемую сокращённо docstrings.\n",
    "# Строку документации можно получить, например, из функции, даже во время выполнения программы!\n",
    "\n",
    "def printMax(x, y):\n",
    "    \"\"\"Выводит максимальное из двух чисел. Оба значения должны быть целыми числами.\"\"\"\n",
    "\n",
    "    x = int(x) # конвертируем в целые, если возможно\n",
    "    y = int(y)\n",
    "\n",
    "    if x > y:\n",
    "        print(x, 'наибольшее')\n",
    "    else:\n",
    "        print(y, 'наибольшее')\n",
    "\n",
    "printMax(3, 5)\n",
    "print(printMax.__doc__)"
   ]
  },
  {
   "cell_type": "code",
   "execution_count": 39,
   "metadata": {},
   "outputs": [
    {
     "name": "stdout",
     "output_type": "stream",
     "text": [
      "Help on function printMax in module __main__:\n",
      "\n",
      "printMax(x, y)\n",
      "    Выводит максимальное из двух чисел. Оба значения должны быть целыми числами.\n",
      "\n"
     ]
    }
   ],
   "source": [
    "help(printMax)"
   ]
  },
  {
   "cell_type": "code",
   "execution_count": null,
   "metadata": {},
   "outputs": [],
   "source": []
  },
  {
   "cell_type": "code",
   "execution_count": null,
   "metadata": {},
   "outputs": [],
   "source": []
  },
  {
   "cell_type": "code",
   "execution_count": null,
   "metadata": {},
   "outputs": [],
   "source": []
  },
  {
   "cell_type": "code",
   "execution_count": null,
   "metadata": {},
   "outputs": [],
   "source": []
  },
  {
   "cell_type": "code",
   "execution_count": null,
   "metadata": {},
   "outputs": [],
   "source": []
  },
  {
   "cell_type": "code",
   "execution_count": null,
   "metadata": {},
   "outputs": [],
   "source": []
  },
  {
   "cell_type": "code",
   "execution_count": null,
   "metadata": {},
   "outputs": [],
   "source": []
  },
  {
   "cell_type": "code",
   "execution_count": null,
   "metadata": {},
   "outputs": [],
   "source": []
  },
  {
   "cell_type": "code",
   "execution_count": null,
   "metadata": {},
   "outputs": [],
   "source": []
  }
 ],
 "metadata": {
  "kernelspec": {
   "display_name": "Python 3",
   "language": "python",
   "name": "python3"
  },
  "language_info": {
   "codemirror_mode": {
    "name": "ipython",
    "version": 3
   },
   "file_extension": ".py",
   "mimetype": "text/x-python",
   "name": "python",
   "nbconvert_exporter": "python",
   "pygments_lexer": "ipython3",
   "version": "3.6.4"
  }
 },
 "nbformat": 4,
 "nbformat_minor": 2
}
