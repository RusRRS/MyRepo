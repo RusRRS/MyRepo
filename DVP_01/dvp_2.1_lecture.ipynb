{
 "cells": [
  {
   "cell_type": "markdown",
   "metadata": {},
   "source": [
    "# Лекция DVP 01. Введение в Feature Engineering"
   ]
  },
  {
   "cell_type": "markdown",
   "metadata": {},
   "source": [
    "**Feature Engineering** - Генерация признаков.  \n",
    "**Признак (фича, feature)** - это переменная, которая описывает отдельную характеристику объекта."
   ]
  },
  {
   "cell_type": "markdown",
   "metadata": {},
   "source": [
    "*Предварительно была вводная лекция по основам*"
   ]
  },
  {
   "cell_type": "markdown",
   "metadata": {},
   "source": [
    "## Практическая часть"
   ]
  },
  {
   "cell_type": "code",
   "execution_count": 8,
   "metadata": {},
   "outputs": [],
   "source": [
    "import numpy as np\n",
    "import pandas as pd\n",
    "from sklearn.linear_model import LinearRegression"
   ]
  },
  {
   "cell_type": "markdown",
   "metadata": {},
   "source": [
    "В качестве примера не будем брать никаких датасетов, а создадим его вручную.  \n",
    "Создаем семпл из 500 значений. Зависимость стоимости от возраста владельца, длины и ширины помещения)"
   ]
  },
  {
   "cell_type": "code",
   "execution_count": 9,
   "metadata": {},
   "outputs": [
    {
     "data": {
      "text/html": [
       "<div>\n",
       "<style scoped>\n",
       "    .dataframe tbody tr th:only-of-type {\n",
       "        vertical-align: middle;\n",
       "    }\n",
       "\n",
       "    .dataframe tbody tr th {\n",
       "        vertical-align: top;\n",
       "    }\n",
       "\n",
       "    .dataframe thead th {\n",
       "        text-align: right;\n",
       "    }\n",
       "</style>\n",
       "<table border=\"1\" class=\"dataframe\">\n",
       "  <thead>\n",
       "    <tr style=\"text-align: right;\">\n",
       "      <th></th>\n",
       "      <th>age_owner</th>\n",
       "      <th>length</th>\n",
       "      <th>width</th>\n",
       "      <th>price</th>\n",
       "    </tr>\n",
       "  </thead>\n",
       "  <tbody>\n",
       "    <tr>\n",
       "      <td>0</td>\n",
       "      <td>64</td>\n",
       "      <td>46</td>\n",
       "      <td>73</td>\n",
       "      <td>335800</td>\n",
       "    </tr>\n",
       "    <tr>\n",
       "      <td>1</td>\n",
       "      <td>72</td>\n",
       "      <td>108</td>\n",
       "      <td>35</td>\n",
       "      <td>378000</td>\n",
       "    </tr>\n",
       "    <tr>\n",
       "      <td>2</td>\n",
       "      <td>95</td>\n",
       "      <td>86</td>\n",
       "      <td>82</td>\n",
       "      <td>705200</td>\n",
       "    </tr>\n",
       "    <tr>\n",
       "      <td>3</td>\n",
       "      <td>84</td>\n",
       "      <td>92</td>\n",
       "      <td>42</td>\n",
       "      <td>386400</td>\n",
       "    </tr>\n",
       "    <tr>\n",
       "      <td>4</td>\n",
       "      <td>73</td>\n",
       "      <td>44</td>\n",
       "      <td>82</td>\n",
       "      <td>360800</td>\n",
       "    </tr>\n",
       "  </tbody>\n",
       "</table>\n",
       "</div>"
      ],
      "text/plain": [
       "   age_owner  length  width   price\n",
       "0         64      46     73  335800\n",
       "1         72     108     35  378000\n",
       "2         95      86     82  705200\n",
       "3         84      92     42  386400\n",
       "4         73      44     82  360800"
      ]
     },
     "execution_count": 9,
     "metadata": {},
     "output_type": "execute_result"
    }
   ],
   "source": [
    "# Создаём сэмпл из 500 значений\n",
    "n_samples = 500\n",
    "# Задаем, случайным образом параметры возраста, длины и ширины помещений. Это признаки\n",
    "age_owner = np.random.choice(90, n_samples) + 21\n",
    "length = np.random.choice(120, n_samples) + 15\n",
    "width = np.random.choice(80, n_samples) + 10\n",
    "# Целевая метрика: стоимость помещения\n",
    "price = length * width * 100\n",
    "# Заносим это все в датафрейм\n",
    "data = pd.DataFrame({'age_owner': age_owner, 'length': length, 'width': width, 'price': price})\n",
    "data.head(5)"
   ]
  },
  {
   "cell_type": "markdown",
   "metadata": {},
   "source": [
    "Задаем функцию и линейную регрессионную модель, получаем прогноз и рассчитываем ср. абс. ошибку"
   ]
  },
  {
   "cell_type": "code",
   "execution_count": 18,
   "metadata": {},
   "outputs": [
    {
     "name": "stdout",
     "output_type": "stream",
     "text": [
      "Weights: [ 221.24848569 4834.01232071 7425.08231347]\n",
      "Bias: -377941.372488589\n",
      "Error: 60161.738851695314\n"
     ]
    }
   ],
   "source": [
    "# Ответ на вопрос \"Каким образом мы определим, что какая-то метрика не нужна\"\n",
    "# Для этого рассчитаем среднюю абсолютную ошибку. Исспользуем mean_absolute_error из sklearn\n",
    "from sklearn.metrics import mean_absolute_error\n",
    "\n",
    "# Задаем X и Y\n",
    "X = data[['age_owner', 'length', 'width']]\n",
    "y = data['price']\n",
    "\n",
    "# Создаем линейную модель для данной функции\n",
    "reg = LinearRegression().fit(X, y) # .fit(X, y) - обучает линейную регрессию\n",
    "\n",
    "# Печать результата\n",
    "print('Weights: {}'.format(reg.coef_)) # Веса\n",
    "print('Bias: {}'.format(reg.intercept_)) # Сдвиг(подгонка модели)\n",
    "\n",
    "# Предсказываем результат и рассчитываем ошибку\n",
    "pred_values = reg.predict(data[['age_owner', 'length', 'width']])\n",
    "print('Error: {}'.format(mean_absolute_error(pred_values, y)))"
   ]
  },
  {
   "cell_type": "markdown",
   "metadata": {},
   "source": [
    "**Результат действия модели**:  \n",
    "Стоимость =  221 х Возраст  +  4834 х Длина + 7444 х Ширина\n",
    "Ошибка = 60 161 рублей"
   ]
  },
  {
   "cell_type": "code",
   "execution_count": 14,
   "metadata": {},
   "outputs": [
    {
     "data": {
      "text/plain": [
       "0      335800\n",
       "1      378000\n",
       "2      705200\n",
       "3      386400\n",
       "4      360800\n",
       "        ...  \n",
       "495    275200\n",
       "496    146300\n",
       "497    401500\n",
       "498    518400\n",
       "499    318200\n",
       "Name: price, Length: 500, dtype: int32"
      ]
     },
     "execution_count": 14,
     "metadata": {},
     "output_type": "execute_result"
    }
   ],
   "source": [
    "# Оценим масштаб ошибки:\n",
    "y"
   ]
  },
  {
   "cell_type": "code",
   "execution_count": 16,
   "metadata": {},
   "outputs": [
    {
     "data": {
      "text/plain": [
       "0      -64814.106231\n",
       "1      -41939.730089\n",
       "2       37540.957063\n",
       "3      -10826.090980\n",
       "4      -98963.058782\n",
       "           ...      \n",
       "495     -7930.018123\n",
       "496   -206995.626185\n",
       "497    -49036.423203\n",
       "498     19624.924593\n",
       "499      5649.763650\n",
       "Name: price, Length: 500, dtype: float64"
      ]
     },
     "execution_count": 16,
     "metadata": {},
     "output_type": "execute_result"
    }
   ],
   "source": [
    "# Рассчитаем разницу:\n",
    "y - pred_values\n",
    "# Разница огромная"
   ]
  },
  {
   "cell_type": "markdown",
   "metadata": {},
   "source": [
    "**Причина ошибки**:   \n",
    "Модель рассчитывались исходя из параметров возраст, ширина и длина, т.е. на вход использовались некорректные данные"
   ]
  },
  {
   "cell_type": "markdown",
   "metadata": {},
   "source": [
    "Изменим модель, будем учитывать только длину и ширину"
   ]
  },
  {
   "cell_type": "code",
   "execution_count": 17,
   "metadata": {},
   "outputs": [
    {
     "name": "stdout",
     "output_type": "stream",
     "text": [
      "Weights: [4826.72593105 7428.10211253]\n",
      "Bias: -362613.49259118503\n",
      "Error: 60291.38393370125\n"
     ]
    }
   ],
   "source": [
    "X = data[['length', 'width']]\n",
    "y = data['price']\n",
    "reg = LinearRegression().fit(X, y)\n",
    "print('Weights: {}'.format(reg.coef_))\n",
    "print('Bias: {}'.format(reg.intercept_))\n",
    "\n",
    "pred_values = reg.predict(data[['length', 'width']])\n",
    "print('Error: {}'.format(mean_absolute_error(pred_values, y)))"
   ]
  },
  {
   "cell_type": "markdown",
   "metadata": {},
   "source": [
    "**Результат действия модели**:  \n",
    "Стоимость =  4826 х Длина + 7428 х Ширина\n",
    "Ошибка = 60 291 рублей  \n",
    "Таким образом, ошибка практически не изменилась"
   ]
  },
  {
   "cell_type": "markdown",
   "metadata": {},
   "source": [
    "Сумма длины и ширины не работает. Создадим новый признак: площадь квартиры"
   ]
  },
  {
   "cell_type": "code",
   "execution_count": 21,
   "metadata": {},
   "outputs": [
    {
     "data": {
      "text/html": [
       "<div>\n",
       "<style scoped>\n",
       "    .dataframe tbody tr th:only-of-type {\n",
       "        vertical-align: middle;\n",
       "    }\n",
       "\n",
       "    .dataframe tbody tr th {\n",
       "        vertical-align: top;\n",
       "    }\n",
       "\n",
       "    .dataframe thead th {\n",
       "        text-align: right;\n",
       "    }\n",
       "</style>\n",
       "<table border=\"1\" class=\"dataframe\">\n",
       "  <thead>\n",
       "    <tr style=\"text-align: right;\">\n",
       "      <th></th>\n",
       "      <th>age_owner</th>\n",
       "      <th>length</th>\n",
       "      <th>width</th>\n",
       "      <th>price</th>\n",
       "      <th>mult</th>\n",
       "    </tr>\n",
       "  </thead>\n",
       "  <tbody>\n",
       "    <tr>\n",
       "      <td>0</td>\n",
       "      <td>64</td>\n",
       "      <td>46</td>\n",
       "      <td>73</td>\n",
       "      <td>335800</td>\n",
       "      <td>3358</td>\n",
       "    </tr>\n",
       "    <tr>\n",
       "      <td>1</td>\n",
       "      <td>72</td>\n",
       "      <td>108</td>\n",
       "      <td>35</td>\n",
       "      <td>378000</td>\n",
       "      <td>3780</td>\n",
       "    </tr>\n",
       "    <tr>\n",
       "      <td>2</td>\n",
       "      <td>95</td>\n",
       "      <td>86</td>\n",
       "      <td>82</td>\n",
       "      <td>705200</td>\n",
       "      <td>7052</td>\n",
       "    </tr>\n",
       "    <tr>\n",
       "      <td>3</td>\n",
       "      <td>84</td>\n",
       "      <td>92</td>\n",
       "      <td>42</td>\n",
       "      <td>386400</td>\n",
       "      <td>3864</td>\n",
       "    </tr>\n",
       "    <tr>\n",
       "      <td>4</td>\n",
       "      <td>73</td>\n",
       "      <td>44</td>\n",
       "      <td>82</td>\n",
       "      <td>360800</td>\n",
       "      <td>3608</td>\n",
       "    </tr>\n",
       "  </tbody>\n",
       "</table>\n",
       "</div>"
      ],
      "text/plain": [
       "   age_owner  length  width   price  mult\n",
       "0         64      46     73  335800  3358\n",
       "1         72     108     35  378000  3780\n",
       "2         95      86     82  705200  7052\n",
       "3         84      92     42  386400  3864\n",
       "4         73      44     82  360800  3608"
      ]
     },
     "execution_count": 21,
     "metadata": {},
     "output_type": "execute_result"
    }
   ],
   "source": [
    "# Создаем новый признак\n",
    "data['mult'] = data['length'] * data['width']\n",
    "data.head(5)"
   ]
  },
  {
   "cell_type": "markdown",
   "metadata": {},
   "source": [
    "Создадим модель 3. На X только площадь помещения, а на Y стоимость"
   ]
  },
  {
   "cell_type": "code",
   "execution_count": 20,
   "metadata": {},
   "outputs": [
    {
     "name": "stdout",
     "output_type": "stream",
     "text": [
      "Weights: [100.]\n",
      "Bias: -5.820766091346741e-11\n",
      "Error: 1.775333657860756e-11\n"
     ]
    }
   ],
   "source": [
    "X = data[['mult']]\n",
    "y = data['price']\n",
    "reg = LinearRegression().fit(X, y)\n",
    "print('Weights: {}'.format(reg.coef_))\n",
    "print('Bias: {}'.format(reg.intercept_))\n",
    "\n",
    "pred_values = reg.predict(data[['mult']])\n",
    "print('Error: {}'.format(mean_absolute_error(pred_values, y)))"
   ]
  },
  {
   "cell_type": "markdown",
   "metadata": {},
   "source": [
    "**Результат действия модели**:  \n",
    "Стоимость =  100 х Площадь\n",
    "Ошибка ~ 0 рублей  \n",
    "Таким образом, ошибка близка к нулю. Т.е. стоимость зависит от площади, что очевидно."
   ]
  }
 ],
 "metadata": {
  "kernelspec": {
   "display_name": "Python 3",
   "language": "python",
   "name": "python3"
  },
  "language_info": {
   "codemirror_mode": {
    "name": "ipython",
    "version": 3
   },
   "file_extension": ".py",
   "mimetype": "text/x-python",
   "name": "python",
   "nbconvert_exporter": "python",
   "pygments_lexer": "ipython3",
   "version": "3.6.4"
  }
 },
 "nbformat": 4,
 "nbformat_minor": 2
}
