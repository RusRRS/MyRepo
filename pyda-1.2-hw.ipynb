{
 "cells": [
  {
   "cell_type": "markdown",
   "metadata": {},
   "source": [
    "## Задание 1"
   ]
  },
  {
   "cell_type": "markdown",
   "metadata": {},
   "source": [
    "Дан список с визитами по городам и странам. \n",
    "Напишите код, который возвращает отфильтрованный список geo_logs, содержащий только визиты из России."
   ]
  },
  {
   "cell_type": "code",
   "execution_count": 164,
   "metadata": {},
   "outputs": [],
   "source": [
    "geo_logs = [\n",
    "    {'visit1': ['Москва', 'Россия']},\n",
    "    {'visit2': ['Дели', 'Индия']},\n",
    "    {'visit3': ['Владимир', 'Россия']},\n",
    "    {'visit4': ['Лиссабон', 'Португалия']},\n",
    "    {'visit5': ['Париж', 'Франция']},\n",
    "    {'visit6': ['Лиссабон', 'Португалия']},\n",
    "    {'visit7': ['Тула', 'Россия']},\n",
    "    {'visit8': ['Тула', 'Россия']},\n",
    "    {'visit9': ['Курск', 'Россия']},\n",
    "    {'visit10': ['Архангельск', 'Россия']}\n",
    "]"
   ]
  },
  {
   "cell_type": "code",
   "execution_count": 165,
   "metadata": {},
   "outputs": [
    {
     "data": {
      "text/plain": [
       "[{'visit1': ['Москва', 'Россия']},\n",
       " {'visit3': ['Владимир', 'Россия']},\n",
       " {'visit7': ['Тула', 'Россия']},\n",
       " {'visit8': ['Тула', 'Россия']},\n",
       " {'visit9': ['Курск', 'Россия']},\n",
       " {'visit10': ['Архангельск', 'Россия']}]"
      ]
     },
     "execution_count": 165,
     "metadata": {},
     "output_type": "execute_result"
    }
   ],
   "source": [
    "# данный список представляет собой: список со словарями, в которых значения - тоже список\n",
    "geo_logs_new = []\n",
    "# Шаг 1. Обращаемся к каждому элементу в списке - словарю\n",
    "for dict_element in geo_logs:\n",
    "# Шаг 2. Получаем значения (список) в словаре\n",
    "    for list_element in dict_element:\n",
    "        geo_logs_dict_list = dict_element.get(list_element, 'Not Found')\n",
    "# Шаг 3. Если в значениях есть элемент \"Россия\", то добавляем в новый список\n",
    "        if geo_logs_dict_list[1] == 'Россия':\n",
    "            geo_logs_new.append(dict_element)\n",
    "geo_logs_new            "
   ]
  },
  {
   "cell_type": "markdown",
   "metadata": {},
   "source": [
    "## Задание 2"
   ]
  },
  {
   "cell_type": "markdown",
   "metadata": {},
   "source": [
    "Выведите на экран все уникальные гео-ID из значений словаря ids. Т. е. список вида [213, 15, 54, 119, 98, 35]"
   ]
  },
  {
   "cell_type": "code",
   "execution_count": 262,
   "metadata": {},
   "outputs": [],
   "source": [
    "ids = {'user1': [213, 213, 213, 15, 213], \n",
    "       'user2': [54, 54, 119, 119, 119], \n",
    "       'user3': [213, 98, 98, 35]}"
   ]
  },
  {
   "cell_type": "code",
   "execution_count": 256,
   "metadata": {},
   "outputs": [
    {
     "name": "stdout",
     "output_type": "stream",
     "text": [
      "{98, 35, 15, 213, 54, 119}\n"
     ]
    }
   ],
   "source": [
    "# Вариант 1. Решение на словарях.\n",
    "unique_ids = set() # set для уникальных значений\n",
    "\n",
    "for value_list in ids:\n",
    "    ids_list = ids[value_list]\n",
    "    for element in ids_list:\n",
    "        unique_ids.add(element)\n",
    "print(unique_ids)"
   ]
  },
  {
   "cell_type": "code",
   "execution_count": 271,
   "metadata": {},
   "outputs": [
    {
     "name": "stdout",
     "output_type": "stream",
     "text": [
      "[213, 15, 54, 119, 98, 35]\n"
     ]
    }
   ],
   "source": [
    "# Вариант 2. Решение на списках.\n",
    "unique_ids_2 = [] # пустой список для уникальных значений\n",
    "\n",
    "for value_list in ids:\n",
    "    ids_list = ids[value_list]\n",
    "    for element in ids_list:\n",
    "        if element not in unique_ids_2:\n",
    "            unique_ids_2.append(element)\n",
    "print(unique_ids_2)"
   ]
  },
  {
   "cell_type": "code",
   "execution_count": null,
   "metadata": {},
   "outputs": [],
   "source": [
    "output = []\n",
    "for x in trends:\n",
    "    if x not in output:\n",
    "        output.append(x)\n",
    "print output"
   ]
  },
  {
   "cell_type": "markdown",
   "metadata": {},
   "source": [
    "http://qaru.site/questions/18817/get-unique-values-from-a-list-in-python"
   ]
  },
  {
   "cell_type": "markdown",
   "metadata": {},
   "source": [
    "## Задание 3"
   ]
  },
  {
   "cell_type": "markdown",
   "metadata": {},
   "source": [
    "Дан список поисковых запросов. Получить распределение количества слов в них. \n",
    "Т. е. поисковых запросов из одного - слова 5%, из двух - 7%, из трех - 3% и т.д."
   ]
  },
  {
   "cell_type": "code",
   "execution_count": 346,
   "metadata": {},
   "outputs": [],
   "source": [
    "queries = [\n",
    "    'смотреть сериалы онлайн',\n",
    "    'новости спорта',\n",
    "    'афиша кино',\n",
    "    'курс доллара',\n",
    "    'сериалы этим летом',\n",
    "    'курс по питону',\n",
    "    'сериалы про спорт',\n",
    "    'сериалы',\n",
    "]"
   ]
  },
  {
   "cell_type": "code",
   "execution_count": 347,
   "metadata": {},
   "outputs": [
    {
     "name": "stdout",
     "output_type": "stream",
     "text": [
      "смотреть сериалы онлайн\n",
      "2\n",
      "новости спорта\n",
      "1\n",
      "афиша кино\n",
      "1\n",
      "курс доллара\n",
      "1\n",
      "сериалы этим летом\n",
      "2\n",
      "курс по питону\n",
      "2\n",
      "сериалы про спорт\n",
      "2\n",
      "сериалы\n",
      "0\n",
      "[3, 2, 2, 2, 3, 3, 3, 1]\n",
      "8\n",
      "Из трех слов состоят: 50.0 %\n",
      "Из двух слов состоят: 37.5 %\n",
      "Из одного слова состоят: 12.5 %\n"
     ]
    }
   ],
   "source": [
    "element_sum = 0\n",
    "target_string = ' '\n",
    "output = []\n",
    "for element in queries:\n",
    "    print(element)\n",
    "    print(element.count(' '))\n",
    "    output.append(element.count(' ') + 1)\n",
    "    \n",
    "\n",
    "\n",
    "\n",
    "\n",
    "\n",
    "print(output)\n",
    "print(len(output))\n",
    "print(\"Из трех слов состоят: \", round(output.count(3)/ len(output) * 100, 2),\" %\", sep=\"\")\n",
    "print(\"Из двух слов состоят: \", round(output.count(2)/ len(output) * 100, 2),\" %\", sep=\"\")\n",
    "print(\"Из одного слова состоят: \", round(output.count(1)/ len(output) * 100, 2),\" %\", sep=\"\")\n",
    "\n",
    "      \n",
    "      # "
   ]
  },
  {
   "cell_type": "code",
   "execution_count": 345,
   "metadata": {},
   "outputs": [
    {
     "name": "stdout",
     "output_type": "stream",
     "text": [
      "смотреть сериалы онлайн\n",
      "23\n",
      "новости спорта\n",
      "14\n",
      "афиша кино\n",
      "10\n",
      "курс доллара\n",
      "12\n",
      "сериалы этим летом\n",
      "18\n",
      "курс по питону\n",
      "14\n",
      "сериалы про спорт\n",
      "17\n"
     ]
    }
   ],
   "source": [
    "for i in queries:\n",
    "    print(i) # Просто вывод\n",
    "    print(len(i)) # Просто вывод"
   ]
  },
  {
   "cell_type": "code",
   "execution_count": 299,
   "metadata": {},
   "outputs": [],
   "source": [
    "# проверка на вхождение элемента в объект при помощи in (есть обратная операция not in)\n",
    "target_string = '_'\n",
    "for i in queries:\n",
    "    if target_string in queries:\n",
    "        print('find!')"
   ]
  },
  {
   "cell_type": "markdown",
   "metadata": {},
   "source": [
    "## Задание 4"
   ]
  },
  {
   "cell_type": "markdown",
   "metadata": {},
   "source": [
    "Дана статистика рекламных каналов по объемам продаж. Напишите скрипт, который возвращает название канала с максимальным объемом.\n",
    "Т. е. в данном примере скрипт должен возвращать 'yandex'."
   ]
  },
  {
   "cell_type": "code",
   "execution_count": 348,
   "metadata": {},
   "outputs": [],
   "source": [
    "stats = {'facebook': 55, 'yandex': 120, 'vk': 115, 'google': 99, 'email': 42, 'ok': 98}"
   ]
  },
  {
   "cell_type": "code",
   "execution_count": 349,
   "metadata": {},
   "outputs": [
    {
     "data": {
      "text/plain": [
       "{'facebook': 55, 'yandex': 120, 'vk': 115, 'google': 99, 'email': 42, 'ok': 98}"
      ]
     },
     "execution_count": 349,
     "metadata": {},
     "output_type": "execute_result"
    }
   ],
   "source": [
    "stats"
   ]
  },
  {
   "cell_type": "code",
   "execution_count": 355,
   "metadata": {},
   "outputs": [
    {
     "name": "stdout",
     "output_type": "stream",
     "text": [
      "facebook: 55\n",
      "yandex: 120\n",
      "vk: 115\n",
      "google: 99\n",
      "email: 42\n",
      "ok: 98\n"
     ]
    }
   ],
   "source": [
    "# итерация по словарям\n",
    "# так бы было без цикла\n",
    "print(\"facebook:\", stats['facebook'])\n",
    "print(\"yandex:\", stats['yandex'])\n",
    "print(\"vk:\", stats['vk'])\n",
    "print(\"google:\", stats['google'])\n",
    "print(\"email:\", stats['email'])\n",
    "print(\"ok:\", stats['ok'])"
   ]
  },
  {
   "cell_type": "code",
   "execution_count": 356,
   "metadata": {},
   "outputs": [
    {
     "name": "stdout",
     "output_type": "stream",
     "text": [
      "facebook's sales volume: 55\n",
      "yandex's sales volume: 120\n",
      "vk's sales volume: 115\n",
      "google's sales volume: 99\n",
      "email's sales volume: 42\n",
      "ok's sales volume: 98\n"
     ]
    }
   ],
   "source": [
    "# используем цикл\n",
    "for channel, sales_volume in stats.items():\n",
    "    print(channel, \"'s sales volume: \", sales_volume, sep='')"
   ]
  },
  {
   "cell_type": "code",
   "execution_count": 392,
   "metadata": {},
   "outputs": [
    {
     "name": "stdout",
     "output_type": "stream",
     "text": [
      "Максимальный объем продаж:  120 по каналу  yandex\n"
     ]
    }
   ],
   "source": [
    "# добавим расчет максимальной\n",
    "max_sales = 0\n",
    "max_sales_channel = \"\"\n",
    "for channel in stats:\n",
    "    #print(stats[channel])\n",
    "    if  stats[channel] > max_sales:\n",
    "        max_sales = stats[channel]     \n",
    "        max_sales_channel = channel\n",
    "print(\"Максимальный объем продаж: \", max_sales,\"по каналу \", max_sales_channel)"
   ]
  },
  {
   "cell_type": "code",
   "execution_count": null,
   "metadata": {},
   "outputs": [],
   "source": []
  },
  {
   "cell_type": "markdown",
   "metadata": {},
   "source": [
    "## Задание 5"
   ]
  },
  {
   "cell_type": "markdown",
   "metadata": {},
   "source": [
    "Дан поток логов по количеству просмотренных страниц для каждого пользователя. Список отсортирован по ID пользователя. Вам необходимо написать алгоритм, который считает среднее значение просмотров на пользователя. \n",
    "Т. е. надо посчитать отношение суммы всех просмотров к количеству уникальных пользователей."
   ]
  },
  {
   "cell_type": "code",
   "execution_count": 394,
   "metadata": {},
   "outputs": [],
   "source": [
    "stream = [\n",
    "    '2018-01-01,user1,3',\n",
    "    '2018-01-07,user1,4',\n",
    "    '2018-03-29,user1,1',\n",
    "    '2018-04-04,user1,13',\n",
    "    '2018-01-05,user2,7',\n",
    "    '2018-06-14,user3,4',\n",
    "    '2018-07-02,user3,10',\n",
    "    '2018-03-21,user4,19',\n",
    "    '2018-03-22,user4,4',\n",
    "    '2018-04-22,user4,8',\n",
    "    '2018-05-03,user4,9',\n",
    "    '2018-05-11,user4,11',\n",
    "]"
   ]
  },
  {
   "cell_type": "code",
   "execution_count": 431,
   "metadata": {},
   "outputs": [
    {
     "data": {
      "text/plain": [
       "3"
      ]
     },
     "execution_count": 431,
     "metadata": {},
     "output_type": "execute_result"
    }
   ],
   "source": [
    "# Получение кол-ва просмотренных страниц\n",
    "# Получаем из 1-ой строки списка строку, преобразуем ее в список и выбираем 3-ее значение\n",
    "text_list = int(stream[0].split(',')[2])\n",
    "text_list"
   ]
  },
  {
   "cell_type": "code",
   "execution_count": 430,
   "metadata": {},
   "outputs": [
    {
     "data": {
      "text/plain": [
       "'user1'"
      ]
     },
     "execution_count": 430,
     "metadata": {},
     "output_type": "execute_result"
    }
   ],
   "source": [
    "# Получение id поль\n",
    "# Получаем из 1-ой строки списка строку, преобразуем ее в список и выбираем 2-ее значение\n",
    "text_list = stream[0].split(',')[1]\n",
    "text_list"
   ]
  },
  {
   "cell_type": "code",
   "execution_count": null,
   "metadata": {},
   "outputs": [],
   "source": []
  },
  {
   "cell_type": "code",
   "execution_count": null,
   "metadata": {},
   "outputs": [],
   "source": []
  },
  {
   "cell_type": "code",
   "execution_count": null,
   "metadata": {},
   "outputs": [],
   "source": []
  },
  {
   "cell_type": "code",
   "execution_count": null,
   "metadata": {},
   "outputs": [],
   "source": []
  },
  {
   "cell_type": "code",
   "execution_count": null,
   "metadata": {},
   "outputs": [],
   "source": []
  },
  {
   "cell_type": "code",
   "execution_count": null,
   "metadata": {},
   "outputs": [],
   "source": []
  },
  {
   "cell_type": "code",
   "execution_count": null,
   "metadata": {},
   "outputs": [],
   "source": []
  },
  {
   "cell_type": "code",
   "execution_count": null,
   "metadata": {},
   "outputs": [],
   "source": []
  },
  {
   "cell_type": "code",
   "execution_count": null,
   "metadata": {},
   "outputs": [],
   "source": []
  },
  {
   "cell_type": "code",
   "execution_count": null,
   "metadata": {},
   "outputs": [],
   "source": []
  },
  {
   "cell_type": "code",
   "execution_count": null,
   "metadata": {},
   "outputs": [],
   "source": []
  },
  {
   "cell_type": "code",
   "execution_count": null,
   "metadata": {},
   "outputs": [],
   "source": []
  },
  {
   "cell_type": "markdown",
   "metadata": {},
   "source": [
    "## Задание 6"
   ]
  },
  {
   "cell_type": "markdown",
   "metadata": {},
   "source": [
    "Дана статистика рекламных кампаний по дням. Напишите алгоритм, который по паре дата-кампания ищет значение численного столбца. \n",
    "Т. е. для даты '2018-01-01' и 'google' нужно получить число 25. \n",
    "Считайте, что все комбинации дата-кампания уникальны."
   ]
  },
  {
   "cell_type": "code",
   "execution_count": 12,
   "metadata": {},
   "outputs": [],
   "source": [
    "stats = [\n",
    "    ['2018-01-01', 'google', 25],\n",
    "    ['2018-01-01', 'yandex', 65],\n",
    "    ['2018-01-01', 'market', 89],\n",
    "    ['2018-01-02', 'google', 574],\n",
    "    ['2018-01-02', 'yandex', 249],\n",
    "    ['2018-01-02', 'market', 994],\n",
    "    ['2018-01-03', 'google', 1843],\n",
    "    ['2018-01-03', 'yandex', 1327],\n",
    "    ['2018-01-03', 'market', 1764],\n",
    "]"
   ]
  },
  {
   "cell_type": "code",
   "execution_count": null,
   "metadata": {},
   "outputs": [],
   "source": []
  }
 ],
 "metadata": {
  "kernelspec": {
   "display_name": "Python 3",
   "language": "python",
   "name": "python3"
  },
  "language_info": {
   "codemirror_mode": {
    "name": "ipython",
    "version": 3
   },
   "file_extension": ".py",
   "mimetype": "text/x-python",
   "name": "python",
   "nbconvert_exporter": "python",
   "pygments_lexer": "ipython3",
   "version": "3.7.0"
  }
 },
 "nbformat": 4,
 "nbformat_minor": 2
}
