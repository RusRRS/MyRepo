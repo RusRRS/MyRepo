{
 "cells": [
  {
   "cell_type": "code",
   "execution_count": 149,
   "metadata": {},
   "outputs": [],
   "source": [
    "students_list = [\n",
    "    {'name': 'Василий', 'surname': 'Теркин', 'sex': 'м', 'program_exp': True, 'grade': [8, 8, 9, 10, 9], 'exam': 9},\n",
    "    {'name': 'Мария', 'surname': 'Павлова', 'sex': 'ж', 'program_exp': True, 'grade': [7, 8, 9, 7, 9], 'exam': 8},\n",
    "    {'name': 'Ирина', 'surname': 'Андреева', 'sex': 'ж', 'program_exp': True, 'grade': [10, 9, 8, 10, 10], 'exam': 10},\n",
    "    {'name': 'Татьяна', 'surname': 'Сидорова', 'sex': 'ж', 'program_exp': True, 'grade': [7, 8, 8, 9, 8], 'exam': 8},\n",
    "    {'name': 'Иван', 'surname': 'Васильев', 'sex': 'м', 'program_exp': True, 'grade': [9, 8, 9, 6, 9], 'exam': 10},\n",
    "    {'name': 'Роман', 'surname': 'Золотарев', 'sex': 'м', 'program_exp': False, 'grade': [8, 9, 9, 6, 9], 'exam': 10}\n",
    "]"
   ]
  },
  {
   "cell_type": "code",
   "execution_count": 193,
   "metadata": {},
   "outputs": [
    {
     "data": {
      "text/plain": [
       "[8, 8, 9, 10, 9]"
      ]
     },
     "execution_count": 193,
     "metadata": {},
     "output_type": "execute_result"
    }
   ],
   "source": [
    "students_list[0]['grade'] # выводим данные по оценкам за дз"
   ]
  },
  {
   "cell_type": "code",
   "execution_count": 7,
   "metadata": {},
   "outputs": [
    {
     "data": {
      "text/plain": [
       "9"
      ]
     },
     "execution_count": 7,
     "metadata": {},
     "output_type": "execute_result"
    }
   ],
   "source": [
    "students_list[0]['exam'] # выводим данные по оценкам за экзамен"
   ]
  },
  {
   "cell_type": "code",
   "execution_count": 13,
   "metadata": {},
   "outputs": [
    {
     "data": {
      "text/plain": [
       "'м'"
      ]
     },
     "execution_count": 13,
     "metadata": {},
     "output_type": "execute_result"
    }
   ],
   "source": [
    "students_list[0]['sex'] # уровень на пол"
   ]
  },
  {
   "cell_type": "code",
   "execution_count": 14,
   "metadata": {},
   "outputs": [
    {
     "data": {
      "text/plain": [
       "True"
      ]
     },
     "execution_count": 14,
     "metadata": {},
     "output_type": "execute_result"
    }
   ],
   "source": [
    "students_list[0]['program_exp'] # уровень на уровень программирования"
   ]
  },
  {
   "cell_type": "code",
   "execution_count": 150,
   "metadata": {},
   "outputs": [],
   "source": [
    "# Задаем список список оценок за дз\n",
    "def grade_list():\n",
    "    grade_list = []\n",
    "    for element_list in students_list:\n",
    "        for element in element_list['grade']:\n",
    "            grade_list.append(element)\n",
    "    return grade_list"
   ]
  },
  {
   "cell_type": "code",
   "execution_count": 151,
   "metadata": {},
   "outputs": [],
   "source": [
    "# Задаем список список оценок за экзамен\n",
    "def exam_list():\n",
    "    exam_list = []\n",
    "    for element in students_list:\n",
    "        exam_list.append(element['exam'])\n",
    "    return exam_list"
   ]
  },
  {
   "cell_type": "code",
   "execution_count": 152,
   "metadata": {},
   "outputs": [
    {
     "name": "stdout",
     "output_type": "stream",
     "text": [
      "(8.43, 9.17)\n"
     ]
    }
   ],
   "source": [
    "# Выводим вариант №1\n",
    "def var_01():\n",
    "    result_exam = round(sum(exam_list()) / len(exam_list()), 2)\n",
    "    result_grade = round(sum(grade_list()) / len(grade_list()), 2)\n",
    "    return result_grade, result_exam\n",
    "\n",
    "print(var_01())"
   ]
  },
  {
   "cell_type": "code",
   "execution_count": 154,
   "metadata": {},
   "outputs": [
    {
     "name": "stdout",
     "output_type": "stream",
     "text": [
      "[9, 10, 10]\n",
      "[8, 10, 8]\n"
     ]
    }
   ],
   "source": [
    "# Делаем расчет оценок за экзамен с учетом фильтра\n",
    "filter_01_list = []\n",
    "filter_02_list = []\n",
    "for element in students_list:\n",
    "    if element['sex'] == 'м':\n",
    "#         print(\"М\")\n",
    "        filter_01_list.append(element['exam'])\n",
    "    else:\n",
    "#         print(\"Ж\")\n",
    "        filter_02_list.append(element['exam'])\n",
    "\n",
    "print(filter_01_list)\n",
    "print(filter_02_list)"
   ]
  },
  {
   "cell_type": "code",
   "execution_count": 174,
   "metadata": {},
   "outputs": [],
   "source": [
    "# Переделаем расчет оценок за экзамен с учетом фильтра в функцию:\n",
    "\n",
    "def exam_list_filter(filter_name, filter_value):\n",
    "    filter_list = []\n",
    "    for element in students_list:\n",
    "        if element[filter_name] == filter_value:\n",
    "            filter_list.append(element['exam'])\n",
    "    return filter_list\n",
    "\n",
    "# exam_list_filter('sex','ж')\n",
    "# exam_list_filter('name','Татьяна')"
   ]
  },
  {
   "cell_type": "code",
   "execution_count": 178,
   "metadata": {},
   "outputs": [
    {
     "name": "stdout",
     "output_type": "stream",
     "text": [
      "[8, 8, 9, 10, 9, 9, 8, 9, 6, 9, 8, 9, 9, 6, 9]\n",
      "[7, 8, 9, 7, 9, 10, 9, 8, 10, 10, 7, 8, 8, 9, 8]\n"
     ]
    }
   ],
   "source": [
    "# Задаем список список оценок за дз\n",
    "filter_01_list = []\n",
    "filter_02_list = []\n",
    "for element_list in students_list:\n",
    "    if element_list['sex'] == 'м':\n",
    "        for element in element_list['grade']:\n",
    "            filter_01_list.append(element)\n",
    "    else:\n",
    "        for element in element_list['grade']:\n",
    "            filter_02_list.append(element)\n",
    "print(filter_01_list)\n",
    "print(filter_02_list)"
   ]
  },
  {
   "cell_type": "code",
   "execution_count": 183,
   "metadata": {},
   "outputs": [
    {
     "data": {
      "text/plain": [
       "[7, 8, 8, 9, 8]"
      ]
     },
     "execution_count": 183,
     "metadata": {},
     "output_type": "execute_result"
    }
   ],
   "source": [
    "# Переделаем расчет оценок за домашнее задание с учетом фильтра в функцию:\n",
    "def grade_list_filter(filter_name, filter_value):\n",
    "    filter_list = []\n",
    "    for element_list in students_list:\n",
    "        if element_list[filter_name] == filter_value:\n",
    "            for element in element_list['grade']:\n",
    "                filter_list.append(element)\n",
    "    return filter_list           \n",
    "\n",
    "# grade_list_filter('sex','ж')\n",
    "grade_list_filter('name','Татьяна')"
   ]
  },
  {
   "cell_type": "code",
   "execution_count": 190,
   "metadata": {},
   "outputs": [
    {
     "name": "stdout",
     "output_type": "stream",
     "text": [
      "(8.48, 9.0) (8.47, 8.67)\n"
     ]
    }
   ],
   "source": [
    "# функция вывода второго варианта\n",
    "def var_02(filter_name, filter_value):\n",
    "    result_exam = round(sum(exam_list_filter(filter_name, filter_value)) / len(exam_list_filter(filter_name, filter_value)), 2)\n",
    "    result_grade = round(sum(grade_list_filter(filter_name, filter_value)) / len(grade_list_filter(filter_name, filter_value)), 2)\n",
    "    return result_grade, result_exam\n",
    "\n",
    "print(var_02('program_exp',True),  var_02('sex','ж'))"
   ]
  },
  {
   "cell_type": "code",
   "execution_count": 192,
   "metadata": {},
   "outputs": [
    {
     "name": "stdout",
     "output_type": "stream",
     "text": [
      "2\n",
      "Команда №2\n"
     ]
    }
   ],
   "source": [
    "# Модуль для вывода результатов:\n",
    "# Список команд: \n",
    "# 1 - вывести на экран среднюю оценку за все ДЗ по группе и вывести на экран среднюю оценку за экзамен по группе; \n",
    "# 2 - вывести среднюю оценку за ДЗ и за экзамен по группе в разрезе пола студентов \n",
    "# 3 - вывести среднюю оценку за ДЗ и за экзамен в разрезе наличия опыта в программировании у студентов.\n",
    "\n",
    "input_code = int(input())\n",
    "if input_code == 1:\n",
    "    print(\"Команда №1\")\n",
    "elif input_code == 2:\n",
    "    print(\"Команда №2\")\n",
    "elif input_code == 3:\n",
    "    print(\"Команда №3\")\n",
    "else:\n",
    "    print(\"Неправильная команда\")"
   ]
  },
  {
   "cell_type": "code",
   "execution_count": 68,
   "metadata": {},
   "outputs": [],
   "source": []
  },
  {
   "cell_type": "code",
   "execution_count": null,
   "metadata": {},
   "outputs": [],
   "source": []
  },
  {
   "cell_type": "code",
   "execution_count": null,
   "metadata": {},
   "outputs": [],
   "source": []
  },
  {
   "cell_type": "code",
   "execution_count": null,
   "metadata": {},
   "outputs": [],
   "source": []
  },
  {
   "cell_type": "code",
   "execution_count": null,
   "metadata": {},
   "outputs": [],
   "source": []
  },
  {
   "cell_type": "code",
   "execution_count": null,
   "metadata": {},
   "outputs": [],
   "source": []
  },
  {
   "cell_type": "code",
   "execution_count": null,
   "metadata": {},
   "outputs": [],
   "source": []
  },
  {
   "cell_type": "code",
   "execution_count": 31,
   "metadata": {},
   "outputs": [],
   "source": []
  },
  {
   "cell_type": "code",
   "execution_count": null,
   "metadata": {},
   "outputs": [],
   "source": []
  },
  {
   "cell_type": "code",
   "execution_count": null,
   "metadata": {},
   "outputs": [],
   "source": []
  },
  {
   "cell_type": "code",
   "execution_count": null,
   "metadata": {},
   "outputs": [],
   "source": []
  },
  {
   "cell_type": "code",
   "execution_count": null,
   "metadata": {},
   "outputs": [],
   "source": []
  },
  {
   "cell_type": "code",
   "execution_count": null,
   "metadata": {},
   "outputs": [],
   "source": []
  },
  {
   "cell_type": "code",
   "execution_count": null,
   "metadata": {},
   "outputs": [],
   "source": []
  },
  {
   "cell_type": "code",
   "execution_count": null,
   "metadata": {},
   "outputs": [],
   "source": []
  },
  {
   "cell_type": "code",
   "execution_count": null,
   "metadata": {},
   "outputs": [],
   "source": []
  },
  {
   "cell_type": "code",
   "execution_count": null,
   "metadata": {},
   "outputs": [],
   "source": []
  },
  {
   "cell_type": "code",
   "execution_count": null,
   "metadata": {},
   "outputs": [],
   "source": []
  },
  {
   "cell_type": "code",
   "execution_count": null,
   "metadata": {},
   "outputs": [],
   "source": []
  },
  {
   "cell_type": "code",
   "execution_count": null,
   "metadata": {},
   "outputs": [],
   "source": []
  },
  {
   "cell_type": "code",
   "execution_count": null,
   "metadata": {},
   "outputs": [],
   "source": []
  },
  {
   "cell_type": "code",
   "execution_count": null,
   "metadata": {},
   "outputs": [],
   "source": []
  },
  {
   "cell_type": "code",
   "execution_count": null,
   "metadata": {},
   "outputs": [],
   "source": []
  },
  {
   "cell_type": "code",
   "execution_count": null,
   "metadata": {},
   "outputs": [],
   "source": []
  },
  {
   "cell_type": "code",
   "execution_count": null,
   "metadata": {},
   "outputs": [],
   "source": []
  },
  {
   "cell_type": "code",
   "execution_count": null,
   "metadata": {},
   "outputs": [],
   "source": []
  },
  {
   "cell_type": "code",
   "execution_count": null,
   "metadata": {},
   "outputs": [],
   "source": []
  },
  {
   "cell_type": "code",
   "execution_count": null,
   "metadata": {},
   "outputs": [],
   "source": []
  },
  {
   "cell_type": "code",
   "execution_count": null,
   "metadata": {},
   "outputs": [],
   "source": []
  },
  {
   "cell_type": "code",
   "execution_count": null,
   "metadata": {},
   "outputs": [],
   "source": []
  }
 ],
 "metadata": {
  "kernelspec": {
   "display_name": "Python 3",
   "language": "python",
   "name": "python3"
  },
  "language_info": {
   "codemirror_mode": {
    "name": "ipython",
    "version": 3
   },
   "file_extension": ".py",
   "mimetype": "text/x-python",
   "name": "python",
   "nbconvert_exporter": "python",
   "pygments_lexer": "ipython3",
   "version": "3.6.4"
  }
 },
 "nbformat": 4,
 "nbformat_minor": 2
}
