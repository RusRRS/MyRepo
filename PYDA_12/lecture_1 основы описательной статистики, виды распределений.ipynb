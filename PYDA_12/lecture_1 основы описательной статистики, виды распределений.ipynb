{
 "cells": [
  {
   "cell_type": "markdown",
   "metadata": {
    "colab_type": "text",
    "id": "view-in-github"
   },
   "source": [
    "<a href=\"https://colab.research.google.com/github/yustinaivanova/netology_statistics/blob/master/lecture_1.ipynb\" target=\"_parent\"><img src=\"https://colab.research.google.com/assets/colab-badge.svg\" alt=\"Open In Colab\"/></a>"
   ]
  },
  {
   "cell_type": "code",
   "execution_count": 1,
   "metadata": {
    "colab": {},
    "colab_type": "code",
    "id": "uQ_wV-PDIIPy"
   },
   "outputs": [],
   "source": [
    "import pandas as pd\n",
    "import numpy as np\n",
    "import matplotlib.pyplot as plt\n",
    "import scipy.stats as sts\n",
    "%matplotlib inline\n",
    "import statistics"
   ]
  },
  {
   "cell_type": "markdown",
   "metadata": {
    "colab_type": "text",
    "id": "YAR-DsCuMr9G"
   },
   "source": [
    "# Основные понятия статистики\n",
    "\n"
   ]
  },
  {
   "cell_type": "markdown",
   "metadata": {
    "colab_type": "text",
    "id": "vBw6YdadPSKo"
   },
   "source": [
    "Возьмем данные о фильмах с контентом на английском языке. "
   ]
  },
  {
   "cell_type": "code",
   "execution_count": 2,
   "metadata": {
    "colab": {},
    "colab_type": "code",
    "id": "gRn0ijGZMwA9"
   },
   "outputs": [],
   "source": [
    "url=\"http://yustiks.ru/dataset/FilmTV_dataset.csv\"\n",
    "df=pd.read_csv(url)"
   ]
  },
  {
   "cell_type": "markdown",
   "metadata": {
    "colab_type": "text",
    "id": "FIicq4TJPi2C"
   },
   "source": [
    "*   **filmtv_ID** FilmTV ID\n",
    "*   **film_title** Movie Title\n",
    "*   **year** Year of Release\n",
    "*   **genre** Movie Genre\n",
    "*   **duration** Movie Duration\n",
    "*   **country** Movie Country\n",
    "*   **director** Movie Director\n",
    "*   **actors** Movie Actors\n",
    "*   **avg_vote** Movie Average Vote\n",
    "*   **votes** Movie Number of Votes\n"
   ]
  },
  {
   "cell_type": "markdown",
   "metadata": {
    "colab_type": "text",
    "id": "dgqe3OYPQboc"
   },
   "source": [
    "Посмотрим основные колонки из таблицы"
   ]
  },
  {
   "cell_type": "code",
   "execution_count": 3,
   "metadata": {
    "colab": {
     "base_uri": "https://localhost:8080/",
     "height": 408
    },
    "colab_type": "code",
    "id": "ney7duVrQQyX",
    "outputId": "8000a7a3-3126-4054-8311-360203605e45"
   },
   "outputs": [
    {
     "data": {
      "text/html": [
       "<div>\n",
       "<style scoped>\n",
       "    .dataframe tbody tr th:only-of-type {\n",
       "        vertical-align: middle;\n",
       "    }\n",
       "\n",
       "    .dataframe tbody tr th {\n",
       "        vertical-align: top;\n",
       "    }\n",
       "\n",
       "    .dataframe thead th {\n",
       "        text-align: right;\n",
       "    }\n",
       "</style>\n",
       "<table border=\"1\" class=\"dataframe\">\n",
       "  <thead>\n",
       "    <tr style=\"text-align: right;\">\n",
       "      <th></th>\n",
       "      <th>filmtv_ID</th>\n",
       "      <th>film_title</th>\n",
       "      <th>year</th>\n",
       "      <th>genre</th>\n",
       "      <th>duration</th>\n",
       "      <th>country</th>\n",
       "      <th>director</th>\n",
       "      <th>actors</th>\n",
       "      <th>avg_vote</th>\n",
       "      <th>votes</th>\n",
       "    </tr>\n",
       "  </thead>\n",
       "  <tbody>\n",
       "    <tr>\n",
       "      <th>0</th>\n",
       "      <td>2</td>\n",
       "      <td>Bugs Bunny's Third Movie: 1001 Rabbit Tales</td>\n",
       "      <td>1982</td>\n",
       "      <td>Animation</td>\n",
       "      <td>76</td>\n",
       "      <td>United States</td>\n",
       "      <td>David Detiege, Art Davis, Bill Perez</td>\n",
       "      <td>NaN</td>\n",
       "      <td>7.7</td>\n",
       "      <td>28</td>\n",
       "    </tr>\n",
       "    <tr>\n",
       "      <th>1</th>\n",
       "      <td>3</td>\n",
       "      <td>18 anni tra una settimana</td>\n",
       "      <td>1991</td>\n",
       "      <td>Drama</td>\n",
       "      <td>98</td>\n",
       "      <td>Italy</td>\n",
       "      <td>Luigi Perelli</td>\n",
       "      <td>Kim Rossi Stuart, Simona Cavallari, Ennio Fant...</td>\n",
       "      <td>7.0</td>\n",
       "      <td>3</td>\n",
       "    </tr>\n",
       "    <tr>\n",
       "      <th>2</th>\n",
       "      <td>17</td>\n",
       "      <td>Ride a Wild Pony</td>\n",
       "      <td>1976</td>\n",
       "      <td>Romantic</td>\n",
       "      <td>91</td>\n",
       "      <td>United States</td>\n",
       "      <td>Don Chaffey</td>\n",
       "      <td>Michael Craig, John Meillon, Eva Griffith, Gra...</td>\n",
       "      <td>5.6</td>\n",
       "      <td>10</td>\n",
       "    </tr>\n",
       "    <tr>\n",
       "      <th>3</th>\n",
       "      <td>18</td>\n",
       "      <td>Diner</td>\n",
       "      <td>1982</td>\n",
       "      <td>Comedy</td>\n",
       "      <td>95</td>\n",
       "      <td>United States</td>\n",
       "      <td>Barry Levinson</td>\n",
       "      <td>Mickey Rourke, Steve Guttenberg, Ellen Barkin</td>\n",
       "      <td>7.1</td>\n",
       "      <td>14</td>\n",
       "    </tr>\n",
       "    <tr>\n",
       "      <th>4</th>\n",
       "      <td>20</td>\n",
       "      <td>A che servono questi quattrini?</td>\n",
       "      <td>1942</td>\n",
       "      <td>Comedy</td>\n",
       "      <td>85</td>\n",
       "      <td>Italy</td>\n",
       "      <td>Esodo Pratelli</td>\n",
       "      <td>Eduardo De Filippo, Peppino De Filippo, Clelia...</td>\n",
       "      <td>5.9</td>\n",
       "      <td>12</td>\n",
       "    </tr>\n",
       "  </tbody>\n",
       "</table>\n",
       "</div>"
      ],
      "text/plain": [
       "   filmtv_ID                                   film_title  year      genre  \\\n",
       "0          2  Bugs Bunny's Third Movie: 1001 Rabbit Tales  1982  Animation   \n",
       "1          3                    18 anni tra una settimana  1991      Drama   \n",
       "2         17                             Ride a Wild Pony  1976   Romantic   \n",
       "3         18                                        Diner  1982     Comedy   \n",
       "4         20              A che servono questi quattrini?  1942     Comedy   \n",
       "\n",
       "   duration        country                              director  \\\n",
       "0        76  United States  David Detiege, Art Davis, Bill Perez   \n",
       "1        98          Italy                         Luigi Perelli   \n",
       "2        91  United States                           Don Chaffey   \n",
       "3        95  United States                        Barry Levinson   \n",
       "4        85          Italy                        Esodo Pratelli   \n",
       "\n",
       "                                              actors  avg_vote  votes  \n",
       "0                                                NaN       7.7     28  \n",
       "1  Kim Rossi Stuart, Simona Cavallari, Ennio Fant...       7.0      3  \n",
       "2  Michael Craig, John Meillon, Eva Griffith, Gra...       5.6     10  \n",
       "3      Mickey Rourke, Steve Guttenberg, Ellen Barkin       7.1     14  \n",
       "4  Eduardo De Filippo, Peppino De Filippo, Clelia...       5.9     12  "
      ]
     },
     "execution_count": 3,
     "metadata": {},
     "output_type": "execute_result"
    }
   ],
   "source": [
    "df.head()"
   ]
  },
  {
   "cell_type": "markdown",
   "metadata": {
    "colab_type": "text",
    "id": "nOpaN0kvTC8-"
   },
   "source": [
    "# Математические ожидание и среднее значение"
   ]
  },
  {
   "cell_type": "markdown",
   "metadata": {
    "colab_type": "text",
    "id": "iVKr2LAKGI44"
   },
   "source": [
    "Складываем все значения выборки и делим на количество элементов в выборке"
   ]
  },
  {
   "cell_type": "code",
   "execution_count": 4,
   "metadata": {
    "colab": {
     "base_uri": "https://localhost:8080/",
     "height": 34
    },
    "colab_type": "code",
    "id": "lmsV-ZzdQB_a",
    "outputId": "a1aafaa0-8fbd-48e4-aac4-961507a21215"
   },
   "outputs": [
    {
     "data": {
      "text/plain": [
       "99.23111689086916"
      ]
     },
     "execution_count": 4,
     "metadata": {},
     "output_type": "execute_result"
    }
   ],
   "source": [
    "statistics.mean(df['duration'])"
   ]
  },
  {
   "cell_type": "code",
   "execution_count": 5,
   "metadata": {
    "colab": {
     "base_uri": "https://localhost:8080/",
     "height": 34
    },
    "colab_type": "code",
    "id": "rzGeATSAS-_R",
    "outputId": "9e4484c8-cdc0-4be8-a601-0ca502f0f419"
   },
   "outputs": [
    {
     "data": {
      "text/plain": [
       "99.23111689086916"
      ]
     },
     "execution_count": 5,
     "metadata": {},
     "output_type": "execute_result"
    }
   ],
   "source": [
    "sum(df['duration'])/len(df['duration'])"
   ]
  },
  {
   "cell_type": "markdown",
   "metadata": {
    "colab_type": "text",
    "id": "L5hMF6wHF59S"
   },
   "source": [
    "# Медиана"
   ]
  },
  {
   "cell_type": "markdown",
   "metadata": {
    "colab_type": "text",
    "id": "_cHJ0h1aQvm5"
   },
   "source": [
    "Возьмем колонку Duration - продолжительность фильма - и посчитаем медиану. **Медиана** - это такое значение, что ровно половина выборки меньше него, а ровно половина - больше. "
   ]
  },
  {
   "cell_type": "markdown",
   "metadata": {
    "colab_type": "text",
    "id": "XPOdqSa7Gppk"
   },
   "source": [
    "1ый способ:"
   ]
  },
  {
   "cell_type": "code",
   "execution_count": 6,
   "metadata": {
    "colab": {
     "base_uri": "https://localhost:8080/",
     "height": 34
    },
    "colab_type": "code",
    "id": "DC2LXb8vTfE7",
    "outputId": "979bf09d-d6c3-4f64-c470-506669776001"
   },
   "outputs": [
    {
     "name": "stdout",
     "output_type": "stream",
     "text": [
      "Медиана:  95\n"
     ]
    }
   ],
   "source": [
    "# Извлекаем duration \n",
    "duration = df['duration']\n",
    "\n",
    "# Находим их количество\n",
    "num_duration = len(duration)\n",
    "\n",
    "# Сортируем в порядке возрастания\n",
    "sorted_duration = sorted(duration)\n",
    "\n",
    "# Ищем индекс среднего элемента\n",
    "# если количество элементов четное, то берем среднее двух элементов в середине\n",
    "middle = (num_duration // 2)\n",
    "if num_duration%2==0:\n",
    "  result = (sorted_duration[middle-1] + sorted_duration[middle])/2\n",
    "else:\n",
    "  result = sorted_duration[middle]\n",
    "# Находим медиану\n",
    "print('Медиана: ', result)"
   ]
  },
  {
   "cell_type": "markdown",
   "metadata": {
    "colab_type": "text",
    "id": "oGWGPGniG4Ri"
   },
   "source": [
    "2ой способ:"
   ]
  },
  {
   "cell_type": "code",
   "execution_count": 8,
   "metadata": {
    "colab": {
     "base_uri": "https://localhost:8080/",
     "height": 34
    },
    "colab_type": "code",
    "id": "0uaz9T_VSqo9",
    "outputId": "b7c90ccd-df88-4b7c-daa8-fae810376775"
   },
   "outputs": [
    {
     "name": "stdout",
     "output_type": "stream",
     "text": [
      "Медиана:  95\n"
     ]
    }
   ],
   "source": [
    "import statistics\n",
    "print('Медиана: ', statistics.median(df['duration']))"
   ]
  },
  {
   "cell_type": "code",
   "execution_count": 9,
   "metadata": {},
   "outputs": [
    {
     "data": {
      "text/plain": [
       "46907"
      ]
     },
     "execution_count": 9,
     "metadata": {},
     "output_type": "execute_result"
    }
   ],
   "source": [
    "len(sorted_duration) # кол-во элементов "
   ]
  },
  {
   "cell_type": "markdown",
   "metadata": {
    "colab_type": "text",
    "id": "qdiM-4KTTPs6"
   },
   "source": [
    "# Мода"
   ]
  },
  {
   "cell_type": "markdown",
   "metadata": {
    "colab_type": "text",
    "id": "2KTU0bZfGCUK"
   },
   "source": [
    "Мода - значение, которое наиболее часто встречается в выборке"
   ]
  },
  {
   "cell_type": "code",
   "execution_count": 10,
   "metadata": {
    "colab": {
     "base_uri": "https://localhost:8080/",
     "height": 34
    },
    "colab_type": "code",
    "id": "XPGGb12LTRVM",
    "outputId": "7d599120-0c33-42e0-bf2e-2e3ed0fedf3c"
   },
   "outputs": [
    {
     "name": "stdout",
     "output_type": "stream",
     "text": [
      "Значение моды:  90 Количество встречаемости:  5511\n"
     ]
    }
   ],
   "source": [
    "# Создаём пустой словарь, в котором будем считать количество появлений значений продолжительности фильма\n",
    "duration_counts = {}\n",
    "for p in duration:\n",
    "    if p not in duration_counts:\n",
    "        duration_counts[p] = 1\n",
    "    else:\n",
    "        duration_counts[p] += 1\n",
    "\n",
    "# Проходимся по словарю и ищем максимальное количество повторений\n",
    "# Алгоритм поиска максимума\n",
    "maxp = 0\n",
    "mode_duration = None\n",
    "for k, v in duration_counts.items():\n",
    "    if maxp < v:\n",
    "        maxp = v\n",
    "        mode_duration = k\n",
    "print('Значение моды: ', mode_duration, 'Количество встречаемости: ', maxp)\n"
   ]
  },
  {
   "cell_type": "code",
   "execution_count": 11,
   "metadata": {
    "colab": {
     "base_uri": "https://localhost:8080/",
     "height": 34
    },
    "colab_type": "code",
    "id": "HdZVYbzMUtPN",
    "outputId": "f72f4c81-8124-4aab-85be-10c3b9204061"
   },
   "outputs": [
    {
     "name": "stdout",
     "output_type": "stream",
     "text": [
      "Значение моды:  90\n"
     ]
    }
   ],
   "source": [
    "print('Значение моды: ', statistics.mode(duration))"
   ]
  },
  {
   "cell_type": "markdown",
   "metadata": {
    "colab_type": "text",
    "id": "pRiYnAwVVPYe"
   },
   "source": [
    "# Минимум и максимум"
   ]
  },
  {
   "cell_type": "code",
   "execution_count": 12,
   "metadata": {
    "colab": {
     "base_uri": "https://localhost:8080/",
     "height": 34
    },
    "colab_type": "code",
    "id": "eWoVIZvjVSWm",
    "outputId": "f169ed75-f1bb-42f9-9ec0-283f81df09ad"
   },
   "outputs": [
    {
     "data": {
      "text/plain": [
       "40"
      ]
     },
     "execution_count": 12,
     "metadata": {},
     "output_type": "execute_result"
    }
   ],
   "source": [
    "min(duration)"
   ]
  },
  {
   "cell_type": "code",
   "execution_count": 13,
   "metadata": {
    "colab": {
     "base_uri": "https://localhost:8080/",
     "height": 34
    },
    "colab_type": "code",
    "id": "tJ-8XfmBVU7n",
    "outputId": "d6494d9f-5899-4737-8d69-84e36925aa65"
   },
   "outputs": [
    {
     "data": {
      "text/plain": [
       "5280"
      ]
     },
     "execution_count": 13,
     "metadata": {},
     "output_type": "execute_result"
    }
   ],
   "source": [
    "max(duration)"
   ]
  },
  {
   "cell_type": "markdown",
   "metadata": {
    "colab_type": "text",
    "id": "UXN_1OYSGG2Q"
   },
   "source": [
    "# Выбросы"
   ]
  },
  {
   "cell_type": "markdown",
   "metadata": {
    "colab_type": "text",
    "id": "hKS4YwmXJfnv"
   },
   "source": [
    "В табличных данных выбросы - либо переменной нет в таблице, либо значение слишком варьируется от среднего значения выборки."
   ]
  },
  {
   "cell_type": "markdown",
   "metadata": {
    "colab_type": "text",
    "id": "AP3hy0ZhVdDY"
   },
   "source": [
    "**Выбросы** - отсутствующих значений в данной колонке нет"
   ]
  },
  {
   "cell_type": "code",
   "execution_count": 14,
   "metadata": {
    "colab": {
     "base_uri": "https://localhost:8080/",
     "height": 34
    },
    "colab_type": "code",
    "id": "aoJwHJpQVeiA",
    "outputId": "6f820cbf-5bdc-4421-e369-0f57f604f4a9"
   },
   "outputs": [
    {
     "data": {
      "text/plain": [
       "0"
      ]
     },
     "execution_count": 14,
     "metadata": {},
     "output_type": "execute_result"
    }
   ],
   "source": [
    "duration.isnull().sum()"
   ]
  },
  {
   "cell_type": "markdown",
   "metadata": {
    "colab_type": "text",
    "id": "SSXBzVCwWYmg"
   },
   "source": [
    "но зато есть отсутствующие значения в колонке actors"
   ]
  },
  {
   "cell_type": "code",
   "execution_count": 15,
   "metadata": {
    "colab": {
     "base_uri": "https://localhost:8080/",
     "height": 34
    },
    "colab_type": "code",
    "id": "HpzbtsXQWffw",
    "outputId": "9350011c-899f-4156-b6f2-7eb464d8a0e5"
   },
   "outputs": [
    {
     "data": {
      "text/plain": [
       "129"
      ]
     },
     "execution_count": 15,
     "metadata": {},
     "output_type": "execute_result"
    }
   ],
   "source": [
    "df['actors'].isnull().sum()"
   ]
  },
  {
   "cell_type": "markdown",
   "metadata": {
    "colab_type": "text",
    "id": "9Y239gfqVaL-"
   },
   "source": [
    "# Стандартное отклонение"
   ]
  },
  {
   "cell_type": "markdown",
   "metadata": {
    "colab_type": "text",
    "id": "PDYjypiwJWKB"
   },
   "source": [
    "Мера разброса данных (насколько данные варьируются от среднего значения) - корень среднего квадратичного отклонения."
   ]
  },
  {
   "cell_type": "markdown",
   "metadata": {
    "colab_type": "text",
    "id": "H3TMcs74KqoV"
   },
   "source": [
    "1ой метод:"
   ]
  },
  {
   "cell_type": "code",
   "execution_count": 16,
   "metadata": {
    "colab": {
     "base_uri": "https://localhost:8080/",
     "height": 34
    },
    "colab_type": "code",
    "id": "KbJrfmd7faCm",
    "outputId": "7f93088f-fff0-462e-9270-0ceb69a7488a"
   },
   "outputs": [
    {
     "data": {
      "text/plain": [
       "34.95860443683266"
      ]
     },
     "execution_count": 16,
     "metadata": {},
     "output_type": "execute_result"
    }
   ],
   "source": [
    "statistics.pstdev(duration)"
   ]
  },
  {
   "cell_type": "markdown",
   "metadata": {
    "colab_type": "text",
    "id": "38eEjUYaKuf5"
   },
   "source": [
    "2ой метод:"
   ]
  },
  {
   "cell_type": "code",
   "execution_count": 20,
   "metadata": {
    "colab": {
     "base_uri": "https://localhost:8080/",
     "height": 34
    },
    "colab_type": "code",
    "id": "J0qTV1YmgBCd",
    "outputId": "1729427d-4ee1-4672-c39b-455e6743e128"
   },
   "outputs": [
    {
     "name": "stdout",
     "output_type": "stream",
     "text": [
      "34.9589770801773\n"
     ]
    }
   ],
   "source": [
    "def stdev(nums):\n",
    "    diffs = 0\n",
    "    avg = sum(nums)/len(nums)\n",
    "    for n in nums:\n",
    "        diffs += (n - avg)**(2)\n",
    "    return (diffs/(len(nums)-1))**(0.5)\n",
    "\n",
    "print(stdev(duration))"
   ]
  },
  {
   "cell_type": "markdown",
   "metadata": {
    "colab_type": "text",
    "id": "6MsGMUEeGLnX"
   },
   "source": [
    "# Дисперсия"
   ]
  },
  {
   "cell_type": "markdown",
   "metadata": {
    "colab_type": "text",
    "id": "9dV15Q5Ag60o"
   },
   "source": [
    "Дисперсия - квадрат стандартного отклонения"
   ]
  },
  {
   "cell_type": "code",
   "execution_count": 17,
   "metadata": {
    "colab": {
     "base_uri": "https://localhost:8080/",
     "height": 34
    },
    "colab_type": "code",
    "id": "addZ1sLdghk5",
    "outputId": "2e4a24d1-6985-45d1-edd2-6d047d858b78"
   },
   "outputs": [
    {
     "data": {
      "text/plain": [
       "1222.1040241709359"
      ]
     },
     "execution_count": 17,
     "metadata": {},
     "output_type": "execute_result"
    }
   ],
   "source": [
    "statistics.pvariance(duration)"
   ]
  },
  {
   "cell_type": "markdown",
   "metadata": {
    "colab_type": "text",
    "id": "4racI4iNfnfV"
   },
   "source": [
    "# Размах"
   ]
  },
  {
   "cell_type": "markdown",
   "metadata": {
    "colab_type": "text",
    "id": "mGaQm1fLK98x"
   },
   "source": [
    "Разница между минимальным и максимальным значениями"
   ]
  },
  {
   "cell_type": "code",
   "execution_count": 18,
   "metadata": {
    "colab": {
     "base_uri": "https://localhost:8080/",
     "height": 34
    },
    "colab_type": "code",
    "id": "tBwHhAu4fo5p",
    "outputId": "754612c7-a943-412e-f8ff-a6afbe710ceb"
   },
   "outputs": [
    {
     "name": "stdout",
     "output_type": "stream",
     "text": [
      "5240\n"
     ]
    }
   ],
   "source": [
    "duration_range = max(duration) - min(duration)\n",
    "print(duration_range)"
   ]
  },
  {
   "cell_type": "markdown",
   "metadata": {
    "colab_type": "text",
    "id": "g5QIcm7UHDX5"
   },
   "source": [
    "# Коррелляция"
   ]
  },
  {
   "cell_type": "markdown",
   "metadata": {
    "colab_type": "text",
    "id": "nnoXnqBSHJ2D"
   },
   "source": [
    "Взаимосвязь двух выборок друг от друга. Чтобы графически увидеть взаимосвязь двух переменных, необходимо построить точечный график зависимости друг от друга. Например, возьмер 2 параметра - duration и votes. Зависит ли средняя оценка фильма от того, насколько долго он идет?"
   ]
  },
  {
   "cell_type": "code",
   "execution_count": 28,
   "metadata": {
    "colab": {
     "base_uri": "https://localhost:8080/",
     "height": 312
    },
    "colab_type": "code",
    "id": "ON7YUAomHeyJ",
    "outputId": "8588043a-f01a-4671-a8c3-2588c5616629"
   },
   "outputs": [
    {
     "data": {
      "text/plain": [
       "<matplotlib.collections.PathCollection at 0x1fc1fe93518>"
      ]
     },
     "execution_count": 28,
     "metadata": {},
     "output_type": "execute_result"
    },
    {
     "data": {
      "image/png": "[encoded data removed]",
      "text/plain": [
       "<matplotlib.figure.Figure at 0x1fc2066c828>"
      ]
     },
     "metadata": {},
     "output_type": "display_data"
    }
   ],
   "source": [
    "duration = df['duration']\n",
    "avg_vote = df['avg_vote']\n",
    "plt.xlabel('выборка duration')\n",
    "plt.ylabel('выборка avg_vote')\n",
    "plt.title('Точечный график зависимости двух выборок x и y')\n",
    "plt.grid(True)\n",
    "plt.scatter(duration, avg_vote, marker='.')"
   ]
  },
  {
   "cell_type": "code",
   "execution_count": 22,
   "metadata": {},
   "outputs": [
    {
     "data": {
      "text/html": [
       "<div>\n",
       "<style scoped>\n",
       "    .dataframe tbody tr th:only-of-type {\n",
       "        vertical-align: middle;\n",
       "    }\n",
       "\n",
       "    .dataframe tbody tr th {\n",
       "        vertical-align: top;\n",
       "    }\n",
       "\n",
       "    .dataframe thead th {\n",
       "        text-align: right;\n",
       "    }\n",
       "</style>\n",
       "<table border=\"1\" class=\"dataframe\">\n",
       "  <thead>\n",
       "    <tr style=\"text-align: right;\">\n",
       "      <th></th>\n",
       "      <th>filmtv_ID</th>\n",
       "      <th>film_title</th>\n",
       "      <th>year</th>\n",
       "      <th>genre</th>\n",
       "      <th>duration</th>\n",
       "      <th>country</th>\n",
       "      <th>director</th>\n",
       "      <th>actors</th>\n",
       "      <th>avg_vote</th>\n",
       "      <th>votes</th>\n",
       "    </tr>\n",
       "  </thead>\n",
       "  <tbody>\n",
       "    <tr>\n",
       "      <th>27639</th>\n",
       "      <td>35647</td>\n",
       "      <td>Farscape</td>\n",
       "      <td>1999</td>\n",
       "      <td>Adventure</td>\n",
       "      <td>5280</td>\n",
       "      <td>United States</td>\n",
       "      <td>Geoff Bennett, Tony Tilse, Ian Watson</td>\n",
       "      <td>Ben Browder, Virginia Hey, Wayne Pigram, Claud...</td>\n",
       "      <td>8.0</td>\n",
       "      <td>1</td>\n",
       "    </tr>\n",
       "  </tbody>\n",
       "</table>\n",
       "</div>"
      ],
      "text/plain": [
       "       filmtv_ID film_title  year      genre  duration        country  \\\n",
       "27639      35647   Farscape  1999  Adventure      5280  United States   \n",
       "\n",
       "                                    director  \\\n",
       "27639  Geoff Bennett, Tony Tilse, Ian Watson   \n",
       "\n",
       "                                                  actors  avg_vote  votes  \n",
       "27639  Ben Browder, Virginia Hey, Wayne Pigram, Claud...       8.0      1  "
      ]
     },
     "execution_count": 22,
     "metadata": {},
     "output_type": "execute_result"
    }
   ],
   "source": [
    "df.loc[df['duration'] > 5000, :]"
   ]
  },
  {
   "cell_type": "code",
   "execution_count": 27,
   "metadata": {},
   "outputs": [
    {
     "data": {
      "text/plain": [
       "<matplotlib.collections.PathCollection at 0x1fc2084fe10>"
      ]
     },
     "execution_count": 27,
     "metadata": {},
     "output_type": "execute_result"
    },
    {
     "data": {
      "image/png": "[encoded data removed]",
      "text/plain": [
       "<matplotlib.figure.Figure at 0x1fc21c6cb00>"
      ]
     },
     "metadata": {},
     "output_type": "display_data"
    }
   ],
   "source": [
    "x = [i for i in range(0, len(duration)-1)]\n",
    "y = df.loc[df['duration'] < 5000, 'duration']\n",
    "\n",
    "plt.xlabel('номер фильм')\n",
    "plt.ylabel('длительность')\n",
    "plt.title('Точечный график зависимости двух выборок x и y')\n",
    "plt.grid(True)\n",
    "plt.scatter(x, y, marker='.')"
   ]
  },
  {
   "cell_type": "code",
   "execution_count": 26,
   "metadata": {},
   "outputs": [],
   "source": [
    "df = df.loc[df['filmtv_ID'] !=35647, :]"
   ]
  },
  {
   "cell_type": "markdown",
   "metadata": {
    "colab_type": "text",
    "id": "Irh86ByjImfy"
   },
   "source": [
    "По данному графику можно заметить, что чем короткие фильмы имеют разные оценки - как низкие, так и высокие. Фильмы средней и большой длины имеют тенденция получать высокие оценки. Таким образом, между двумя выборками мы можем увидеть сильную коррелляцию."
   ]
  },
  {
   "cell_type": "markdown",
   "metadata": {
    "colab_type": "text",
    "id": "Aj8Ak22okre7"
   },
   "source": [
    "# Нормальное распределение"
   ]
  },
  {
   "cell_type": "markdown",
   "metadata": {
    "colab_type": "text",
    "id": "TLmupVvL2Vjk"
   },
   "source": [
    "**Посмотрим как выглядит нормальное распределение на практике**. Возьмем табличное значение avg_vote - среднее значение голосов за данный фильм. Посмотрим график распределения данной величины."
   ]
  },
  {
   "cell_type": "code",
   "execution_count": 29,
   "metadata": {
    "colab": {
     "base_uri": "https://localhost:8080/",
     "height": 286
    },
    "colab_type": "code",
    "id": "Pc_IEf7c2ad2",
    "outputId": "9d61933e-3768-4187-a53c-0dcbc75acea1"
   },
   "outputs": [
    {
     "data": {
      "text/plain": [
       "<matplotlib.collections.PathCollection at 0x1fc202870f0>"
      ]
     },
     "execution_count": 29,
     "metadata": {},
     "output_type": "execute_result"
    },
    {
     "data": {
      "image/png": "[encoded data removed]",
      "text/plain": [
       "<matplotlib.figure.Figure at 0x1fc20796898>"
      ]
     },
     "metadata": {},
     "output_type": "display_data"
    }
   ],
   "source": [
    "len_column = len(df['avg_vote']) # сколько значений в колонке\n",
    "# генерируем значения от 0 до len_column \n",
    "x = np.linspace(0, len_column, len_column)\n",
    "plt.scatter(x, df['avg_vote'], marker='.')"
   ]
  },
  {
   "cell_type": "markdown",
   "metadata": {
    "colab_type": "text",
    "id": "r4nBOf1h4O1W"
   },
   "source": [
    "По такому графику сложно понять, какое это распределение. Построим частотный график значений. "
   ]
  },
  {
   "cell_type": "code",
   "execution_count": 30,
   "metadata": {
    "colab": {
     "base_uri": "https://localhost:8080/",
     "height": 295
    },
    "colab_type": "code",
    "id": "HJI8Ku504VDv",
    "outputId": "6519747c-fac0-426a-ca14-da6e7292e698"
   },
   "outputs": [
    {
     "data": {
      "image/png": "[encoded data removed]",
      "text/plain": [
       "<matplotlib.figure.Figure at 0x1fc207b7668>"
      ]
     },
     "metadata": {},
     "output_type": "display_data"
    }
   ],
   "source": [
    "# plt.hist - строит частотный график выборки, разбивая значения выборки на равные интервалы\n",
    "n, bins, patches = plt.hist(df['avg_vote'], 10, facecolor='g')\n",
    "\n",
    "plt.xlabel('frequency')\n",
    "plt.ylabel('avg_vote')\n",
    "plt.title('Частотный график avg_vote (разбиение интервала по 10 элементов)')\n",
    "plt.grid(True)\n",
    "plt.show()"
   ]
  },
  {
   "cell_type": "markdown",
   "metadata": {
    "colab_type": "text",
    "id": "2Qwy5kXk5ZNE"
   },
   "source": [
    "Частотный график схож с нормальным распределением с некоторыми отклонениями. Мы можем поменять количество разбиений наших значений с 10 на 100:"
   ]
  },
  {
   "cell_type": "code",
   "execution_count": 25,
   "metadata": {
    "colab": {
     "base_uri": "https://localhost:8080/",
     "height": 295
    },
    "colab_type": "code",
    "id": "ErZp6rg16mYK",
    "outputId": "63be2fa6-6d02-4f90-8955-4a682ed9f40a"
   },
   "outputs": [
    {
     "data": {
      "image/png": "[encoded data removed]",
      "text/plain": [
       "<Figure size 432x288 with 1 Axes>"
      ]
     },
     "metadata": {
      "tags": []
     },
     "output_type": "display_data"
    }
   ],
   "source": [
    "n, bins, patches = plt.hist(df['avg_vote'], 100, facecolor='g')\n",
    "\n",
    "plt.xlabel('frequency')\n",
    "plt.ylabel('avg_vote')\n",
    "plt.title('Частотный график avg_vote (разбиение интервала по 100 элементов)')\n",
    "plt.grid(True)\n",
    "plt.show()"
   ]
  },
  {
   "cell_type": "markdown",
   "metadata": {
    "colab_type": "text",
    "id": "b8eQNtZH6pul"
   },
   "source": [
    "Можно заметить, что у фильмов больше всего оценок 6 (всего таких фильмов со средней оценкой 6 более 7000)"
   ]
  },
  {
   "cell_type": "markdown",
   "metadata": {
    "colab_type": "text",
    "id": "KRnyXmca2DXX"
   },
   "source": [
    "**Зададим нормальное распределение теоритически.**"
   ]
  },
  {
   "cell_type": "markdown",
   "metadata": {
    "colab_type": "text",
    "id": "NurYf-P7IIP8"
   },
   "source": [
    "Зададим 2 выборки с нормальным распределением и построим точечный график зависимости двух переменных друг от друга.\n",
    "Параметр ```loc``` задаёт $\\mu$ или среднее значение, ```scale``` — среднеквадратичное отклонение $\\sigma$, ```size``` — размер выборки. Имя параметра ```size``` при вызове функции ```rvs``` можно не писать.\n"
   ]
  },
  {
   "cell_type": "code",
   "execution_count": 31,
   "metadata": {
    "colab": {
     "base_uri": "https://localhost:8080/",
     "height": 312
    },
    "colab_type": "code",
    "id": "4PEaut0MIIP2",
    "outputId": "b0c5eeaa-6c56-446e-e91b-11df13be5852"
   },
   "outputs": [
    {
     "data": {
      "text/plain": [
       "<matplotlib.collections.PathCollection at 0x1fc204d3198>"
      ]
     },
     "execution_count": 31,
     "metadata": {},
     "output_type": "execute_result"
    },
    {
     "data": {
      "image/png": "[encoded data removed]",
      "text/plain": [
       "<matplotlib.figure.Figure at 0x1fc202876a0>"
      ]
     },
     "metadata": {},
     "output_type": "display_data"
    }
   ],
   "source": [
    "mu1 = 90\n",
    "sigma1 = 10\n",
    "\n",
    "mu2 = 10 \n",
    "sigma2 = 5\n",
    "\n",
    "amount = 1000\n",
    "\n",
    "# зададим 2 нормально распределенные случайные величины\n",
    "norm_rv1 = sts.norm(loc=mu1, scale=sigma1)\n",
    "norm_rv2 = sts.norm(loc=mu2, scale=sigma2)\n",
    "\n",
    "# сгенерируем 1000 значений\n",
    "x = norm_rv1.rvs(size=amount)\n",
    "y = norm_rv2.rvs(size=amount)\n",
    "\n",
    "# построим точечный график зависимости двух переменных\n",
    "\n",
    "plt.xlabel('выборка x')\n",
    "plt.ylabel('выборка y')\n",
    "plt.title('Точечный график зависимости двух выборок x и y')\n",
    "plt.grid(True)\n",
    "plt.scatter(x, y, marker='.')"
   ]
  },
  {
   "cell_type": "markdown",
   "metadata": {
    "colab_type": "text",
    "id": "YdUOXiVuMJwA"
   },
   "source": [
    "Частотный график выборки y  (или график плотности вероятности)."
   ]
  },
  {
   "cell_type": "code",
   "execution_count": 32,
   "metadata": {
    "colab": {
     "base_uri": "https://localhost:8080/",
     "height": 295
    },
    "colab_type": "code",
    "id": "F39tEj1hL0dm",
    "outputId": "dfa8b647-fb6b-4199-ecd4-af7b3ee302d9"
   },
   "outputs": [
    {
     "data": {
      "image/png": "[encoded data removed]",
      "text/plain": [
       "<matplotlib.figure.Figure at 0x1fc2045cd68>"
      ]
     },
     "metadata": {},
     "output_type": "display_data"
    }
   ],
   "source": [
    "plt.hist(y,50)\n",
    "plt.xlabel('интервал выборки')\n",
    "plt.ylabel('количество элементов')\n",
    "plt.title('Частотный график выборки y')\n",
    "plt.grid(True)\n",
    "plt.show()"
   ]
  },
  {
   "cell_type": "markdown",
   "metadata": {
    "colab_type": "text",
    "id": "Yv2Y54KLi8b8"
   },
   "source": [
    "2-ой способ теоритической генерации нормального распределения: модуль random. "
   ]
  },
  {
   "cell_type": "code",
   "execution_count": 34,
   "metadata": {
    "colab": {
     "base_uri": "https://localhost:8080/",
     "height": 295
    },
    "colab_type": "code",
    "id": "1ZDvSVyMjC4G",
    "outputId": "c4460def-9214-405f-aa9d-62167853512c"
   },
   "outputs": [
    {
     "data": {
      "image/png": "[encoded data removed]",
      "text/plain": [
       "<matplotlib.figure.Figure at 0x1fc2204dba8>"
      ]
     },
     "metadata": {},
     "output_type": "display_data"
    }
   ],
   "source": [
    "mu, sigma = 0, 0.1 # среднее значение и дисперсия\n",
    "s = np.random.normal(mu, sigma, 1000)\n",
    "\n",
    "count, bins, ignored = plt.hist(s, 30, density=True)\n",
    "# bins - разбиение интервала\n",
    "# формула плотности распределения Гаусса\n",
    "plt.plot(bins, 1/(sigma * np.sqrt(2 * np.pi)) *\n",
    "               np.exp( - (bins - mu)**2 / (2 * sigma**2) ), \n",
    "         linewidth=2, color='r')\n",
    "plt.xlabel('интервал выборки')\n",
    "plt.ylabel('количество элементов')\n",
    "plt.title('Частотный график выборки сгенерированной теоритически методом №2')\n",
    "plt.grid(True)\n",
    "plt.show()"
   ]
  },
  {
   "cell_type": "markdown",
   "metadata": {
    "colab_type": "text",
    "id": "3dVlvTJvIIQG"
   },
   "source": [
    "А так можно вычислить значение функции плотности вероятности нормального распределения в заданной точке:"
   ]
  },
  {
   "cell_type": "code",
   "execution_count": 35,
   "metadata": {
    "colab": {
     "base_uri": "https://localhost:8080/",
     "height": 34
    },
    "colab_type": "code",
    "id": "7gUcgJHRIIQH",
    "outputId": "7a062a79-c21d-47df-beee-8aca8d55c22b"
   },
   "outputs": [
    {
     "data": {
      "text/plain": [
       "1.4622963575006582e-18"
      ]
     },
     "execution_count": 35,
     "metadata": {},
     "output_type": "execute_result"
    }
   ],
   "source": [
    "norm_rv1.pdf(3)"
   ]
  },
  {
   "cell_type": "markdown",
   "metadata": {
    "colab_type": "text",
    "id": "k3G-NNtQIIQN"
   },
   "source": [
    "Построим графики функции плотности вероятности от различных выборок (с разными параметрами):"
   ]
  },
  {
   "cell_type": "code",
   "execution_count": 36,
   "metadata": {
    "colab": {
     "base_uri": "https://localhost:8080/",
     "height": 513
    },
    "colab_type": "code",
    "id": "uxKZEuFvIIQO",
    "outputId": "96e6aad4-f5f6-47e4-82e3-607d3ef32bde"
   },
   "outputs": [
    {
     "data": {
      "image/png": "[encoded data removed]",
      "text/plain": [
       "<matplotlib.figure.Figure at 0x1fc22176f28>"
      ]
     },
     "metadata": {},
     "output_type": "display_data"
    }
   ],
   "source": [
    "# зададим нормально распределенную случайную величину для нескольких выборок\n",
    "norm_rv = sts.norm(loc=2, scale=0.5)\n",
    "norm_rv2 = sts.norm(2, 0.1)\n",
    "norm_rv3 = sts.norm(2, 2)\n",
    "norm_rv4 = sts.norm(1, 1)\n",
    "\n",
    "# зададим вектор x от 0 до 4 с шагом 100 для отрисовки результата\n",
    "x = np.linspace(0,4,100) \n",
    "pdf = norm_rv.pdf(x)\n",
    "pdf2 = norm_rv2.pdf(x)\n",
    "pdf3 = norm_rv3.pdf(x)\n",
    "pdf4 = norm_rv4.pdf(x)\n",
    "plt.figure(figsize=(10,8))\n",
    "plt.plot(x, pdf)\n",
    "plt.plot(x, pdf3)\n",
    "plt.plot(x, pdf4)\n",
    "\n",
    "plt.legend(['среднее 2: дисперсия 0.5',  'среднее 2: дисперсия 2', 'среднее 1: дисперсия 1'])\n",
    "plt.ylabel('$f(x)$')\n",
    "plt.xlabel('$x$')\n",
    "plt.title('Плотности вероятности нескольких выборок')\n",
    "plt.grid(True)"
   ]
  },
  {
   "cell_type": "markdown",
   "metadata": {
    "colab_type": "text",
    "id": "RHDRQwOGIIQS"
   },
   "source": [
    "# Равномерное распределение на отрезке"
   ]
  },
  {
   "cell_type": "markdown",
   "metadata": {
    "colab_type": "text",
    "id": "fIDeV_TtA3Qj"
   },
   "source": [
    "Равномерное распределение на практике - это числа идущие последовательно от 0 до целого числа N. В равномерной выборке каждый элемент встречается одинаковое число раз."
   ]
  },
  {
   "cell_type": "code",
   "execution_count": 37,
   "metadata": {
    "colab": {
     "base_uri": "https://localhost:8080/",
     "height": 295
    },
    "colab_type": "code",
    "id": "bwD38X3QD86c",
    "outputId": "15f5dd4e-db49-410d-940f-791b28c3cfdc"
   },
   "outputs": [
    {
     "data": {
      "image/png": "[encoded data removed]",
      "text/plain": [
       "<matplotlib.figure.Figure at 0x1fc22a2af98>"
      ]
     },
     "metadata": {},
     "output_type": "display_data"
    }
   ],
   "source": [
    "x = np.linspace(0, 100, 100)\n",
    "\n",
    "plt.ylabel('Количество элементов в данном интервале')\n",
    "plt.xlabel('Интервал значений')\n",
    "plt.title('Плотность распределения равномерной выборки')\n",
    "plt.hist(x, 50)\n",
    "plt.show()"
   ]
  },
  {
   "cell_type": "markdown",
   "metadata": {
    "colab_type": "text",
    "id": "lurOD0--IIQT"
   },
   "source": [
    "Сгенерируем теоритически выборку из случайной величины, имеющей равномерное распределение на отрезке $[a,b]$:"
   ]
  },
  {
   "cell_type": "code",
   "execution_count": 38,
   "metadata": {
    "colab": {
     "base_uri": "https://localhost:8080/",
     "height": 312
    },
    "colab_type": "code",
    "id": "82q5Z_Q9IIQU",
    "outputId": "4fb7e0f8-7772-48e6-f077-f6a7d6d4e768"
   },
   "outputs": [
    {
     "data": {
      "text/plain": [
       "[<matplotlib.lines.Line2D at 0x1fc22bcea58>]"
      ]
     },
     "execution_count": 38,
     "metadata": {},
     "output_type": "execute_result"
    },
    {
     "data": {
      "image/png": "[encoded data removed]",
      "text/plain": [
       "<matplotlib.figure.Figure at 0x1fc22a25d68>"
      ]
     },
     "metadata": {},
     "output_type": "display_data"
    }
   ],
   "source": [
    "a = 1\n",
    "b = 4\n",
    "\n",
    "# обратите внимание, что в этой функции задается левая граница и масштаб, а не левая и правая границы:\n",
    "uniform_rv = sts.uniform(a, b-a)\n",
    "\n",
    "# сгенерируем вектор x для отрисовки значения в pyplot.plot()\n",
    "x = np.linspace(0, 5, 100)\n",
    "pdf = uniform_rv.pdf(x)\n",
    "\n",
    "plt.ylabel('y')\n",
    "plt.xlabel('$x$')\n",
    "plt.title('Плотности вероятности нескольких выборок')\n",
    "plt.plot(x, pdf)"
   ]
  },
  {
   "cell_type": "markdown",
   "metadata": {
    "colab_type": "text",
    "id": "N2zbTqJ8Psb2"
   },
   "source": [
    "# Нормализация данных"
   ]
  },
  {
   "cell_type": "markdown",
   "metadata": {
    "colab_type": "text",
    "id": "8L3FOm_HQvJ8"
   },
   "source": [
    "Операция центрирования"
   ]
  },
  {
   "cell_type": "code",
   "execution_count": 39,
   "metadata": {
    "colab": {
     "base_uri": "https://localhost:8080/",
     "height": 34
    },
    "colab_type": "code",
    "id": "EwYZwQ80Pu9U",
    "outputId": "ea5b53cf-0a8e-4946-bafe-93f3d8f04cf5"
   },
   "outputs": [
    {
     "name": "stdout",
     "output_type": "stream",
     "text": [
      "99.12066686564619\n"
     ]
    }
   ],
   "source": [
    "duration = df['duration']\n",
    "print(statistics.mean(duration))"
   ]
  },
  {
   "cell_type": "markdown",
   "metadata": {
    "colab_type": "text",
    "id": "HKgw8RnoQI0K"
   },
   "source": [
    "Так как среднее значение не равно 0, необходимо нормализовать."
   ]
  },
  {
   "cell_type": "code",
   "execution_count": 40,
   "metadata": {
    "colab": {
     "base_uri": "https://localhost:8080/",
     "height": 34
    },
    "colab_type": "code",
    "id": "lOi7BDRFQM5F",
    "outputId": "30edcf79-a9b3-4330-a2e7-456ff40153d5"
   },
   "outputs": [
    {
     "name": "stdout",
     "output_type": "stream",
     "text": [
      "2.4903685191438297e-16\n"
     ]
    }
   ],
   "source": [
    "duration_1 = duration - statistics.mean(duration)\n",
    "print(statistics.mean(duration_1))"
   ]
  },
  {
   "cell_type": "markdown",
   "metadata": {
    "colab_type": "text",
    "id": "TRb7CjfrRxjN"
   },
   "source": [
    "Масштабирование выборки"
   ]
  },
  {
   "cell_type": "markdown",
   "metadata": {
    "colab_type": "text",
    "id": "LMUSXtoSQgXY"
   },
   "source": [
    "Разброс данных приводим к виду (0,1)  либо (-1,1)"
   ]
  },
  {
   "cell_type": "code",
   "execution_count": 41,
   "metadata": {
    "colab": {
     "base_uri": "https://localhost:8080/",
     "height": 34
    },
    "colab_type": "code",
    "id": "cKCjedy0QrgV",
    "outputId": "5e861e72-e420-4e27-aff7-4804a2654705"
   },
   "outputs": [
    {
     "data": {
      "text/plain": [
       "-59.120666865646186"
      ]
     },
     "execution_count": 41,
     "metadata": {},
     "output_type": "execute_result"
    }
   ],
   "source": [
    "min(duration_1)"
   ]
  },
  {
   "cell_type": "code",
   "execution_count": 42,
   "metadata": {
    "colab": {
     "base_uri": "https://localhost:8080/",
     "height": 34
    },
    "colab_type": "code",
    "id": "sfVH2SPxQ0C5",
    "outputId": "8251ca23-45a2-4608-d4ff-857e396d8696"
   },
   "outputs": [
    {
     "data": {
      "text/plain": [
       "1425.8793331343538"
      ]
     },
     "execution_count": 42,
     "metadata": {},
     "output_type": "execute_result"
    }
   ],
   "source": [
    "max(duration_1)"
   ]
  },
  {
   "cell_type": "code",
   "execution_count": 43,
   "metadata": {
    "colab": {
     "base_uri": "https://localhost:8080/",
     "height": 51
    },
    "colab_type": "code",
    "id": "4xFlt0Z6RBHS",
    "outputId": "3bad7aa3-db24-4d82-aef5-f2d2dfeee474"
   },
   "outputs": [
    {
     "name": "stdout",
     "output_type": "stream",
     "text": [
      "[-1.]\n",
      "[1.]\n"
     ]
    }
   ],
   "source": [
    "from sklearn import preprocessing\n",
    "min_max_scaler = preprocessing.MinMaxScaler(feature_range=(-1,1))\n",
    "\n",
    "duration_2 = min_max_scaler.fit_transform(np.array(duration_1).reshape(-1, 1))\n",
    "print(min(duration_2))\n",
    "print(max(duration_2))"
   ]
  },
  {
   "cell_type": "markdown",
   "metadata": {
    "colab_type": "text",
    "id": "dClPNjPCkV6p"
   },
   "source": [
    "# Корелляция Пирсона"
   ]
  },
  {
   "cell_type": "code",
   "execution_count": 44,
   "metadata": {
    "colab": {
     "base_uri": "https://localhost:8080/",
     "height": 286
    },
    "colab_type": "code",
    "id": "OROijh5ISvwW",
    "outputId": "98bfe96e-d621-40b7-8d99-7d03626d76c1"
   },
   "outputs": [
    {
     "name": "stdout",
     "output_type": "stream",
     "text": [
      "Коэффициент корреляции Пирсона: 1.0\n"
     ]
    },
    {
     "data": {
      "image/png": "[encoded data removed]",
      "text/plain": [
       "<matplotlib.figure.Figure at 0x1fc22bfe0f0>"
      ]
     },
     "metadata": {},
     "output_type": "display_data"
    }
   ],
   "source": [
    "from scipy.stats import pearsonr\n",
    "x = [1, 2, 3, 4, 5]\n",
    "y = [2, 4, 6, 8, 10]\n",
    "\n",
    "corr, p_value = pearsonr(x, y)\n",
    "plt.scatter(x, y, marker='.')\n",
    "print('Коэффициент корреляции Пирсона:', corr)"
   ]
  },
  {
   "cell_type": "markdown",
   "metadata": {
    "colab_type": "text",
    "id": "JRss0MmITf7J"
   },
   "source": [
    "Чтобы приступать к расчетам коэффициента корреляции r-Пирсона необходимо выполнение следующих условий:\n",
    "\n",
    "*  Исследуемые переменные X и Y должны быть распределены нормально.\n",
    "*  Исследуемые переменные X и Y должны быть измерены в интервальной шкале или шкале отношений.\n",
    "*  Количество значений в исследуемых переменных X и Y должно быть одинаковым."
   ]
  },
  {
   "cell_type": "markdown",
   "metadata": {
    "colab_type": "text",
    "id": "g_dj25TdT3AP"
   },
   "source": [
    "Чем коэффициент ближе к 0, тем более независимы переменные."
   ]
  },
  {
   "cell_type": "code",
   "execution_count": 45,
   "metadata": {
    "colab": {
     "base_uri": "https://localhost:8080/",
     "height": 34
    },
    "colab_type": "code",
    "id": "s9skCSQIT9jN",
    "outputId": "c6673e43-4ae9-4e17-8414-bfb1b9fce76a"
   },
   "outputs": [
    {
     "name": "stdout",
     "output_type": "stream",
     "text": [
      "0.11117891144787707\n"
     ]
    }
   ],
   "source": [
    "corr, p_value = pearsonr(duration, avg_vote)\n",
    "print(corr)"
   ]
  },
  {
   "cell_type": "markdown",
   "metadata": {
    "colab_type": "text",
    "id": "uS5aIlZDTQEP"
   },
   "source": [
    "**Минусы коэффициента корреляции Пирсона:**\n",
    "- Неустойчивость к выбросам.\n",
    "- С помощью коэффициента корреляции Пирсона можно определить только силу линейной взаимосвязи между переменными, другие виды взаимосвязей выявляются методами регрессионного анализа."
   ]
  },
  {
   "cell_type": "markdown",
   "metadata": {
    "colab_type": "text",
    "id": "PNZ1jZF4ebgU"
   },
   "source": [
    "# Центральная предельная теорема"
   ]
  },
  {
   "cell_type": "markdown",
   "metadata": {
    "colab_type": "text",
    "id": "U6JVCpH8WF23"
   },
   "source": [
    "С помощью библиотеки random и метода randint сгенерируем равномерное распределение"
   ]
  },
  {
   "cell_type": "code",
   "execution_count": 46,
   "metadata": {
    "colab": {},
    "colab_type": "code",
    "id": "YQR15fLoWMiP"
   },
   "outputs": [],
   "source": [
    "from numpy.random import randint"
   ]
  },
  {
   "cell_type": "code",
   "execution_count": 50,
   "metadata": {
    "colab": {
     "base_uri": "https://localhost:8080/",
     "height": 269
    },
    "colab_type": "code",
    "id": "UxsdD4OrVuaY",
    "outputId": "d7162af6-4a5f-4c21-d698-c558224cf652"
   },
   "outputs": [
    {
     "data": {
      "image/png": "[encoded data removed]",
      "text/plain": [
       "<matplotlib.figure.Figure at 0x1fc20833be0>"
      ]
     },
     "metadata": {},
     "output_type": "display_data"
    }
   ],
   "source": [
    "plt.hist(randint(1, 7, 50), 6)\n",
    "plt.show()"
   ]
  },
  {
   "cell_type": "markdown",
   "metadata": {
    "colab_type": "text",
    "id": "OW9J0B5BWwsd"
   },
   "source": [
    "Построим частотный график для суммы элементов нескольких выборок. "
   ]
  },
  {
   "cell_type": "code",
   "execution_count": 52,
   "metadata": {
    "colab": {
     "base_uri": "https://localhost:8080/",
     "height": 269
    },
    "colab_type": "code",
    "id": "80Ly8ih4erqf",
    "outputId": "6d64fe5a-e4cc-40b0-f729-b24f95e29368"
   },
   "outputs": [
    {
     "data": {
      "image/png": "[encoded data removed]",
      "text/plain": [
       "<matplotlib.figure.Figure at 0x1fc22a97eb8>"
      ]
     },
     "metadata": {},
     "output_type": "display_data"
    }
   ],
   "source": [
    "sampleMeans = []\n",
    "\n",
    "for _ in range(500):\n",
    "  # 50 элементов, значение которых от 1 до 7\n",
    "    sampleMean = sum(randint(1, 7, 50))\n",
    "    sampleMeans.append(sampleMean)\n",
    "\n",
    "# если построим график - можно увидеть нормальное распределение\n",
    "plt.hist(sampleMeans, 50)\n",
    "plt.show()"
   ]
  },
  {
   "cell_type": "markdown",
   "metadata": {
    "colab_type": "text",
    "id": "8QwR8rB80UpL"
   },
   "source": [
    "# Пример корелляции данных, загруженных с помощью pandas"
   ]
  },
  {
   "cell_type": "markdown",
   "metadata": {
    "colab_type": "text",
    "id": "a9luPeeG3igO"
   },
   "source": [
    "Загружаем данные о ценах на авокадо в США"
   ]
  },
  {
   "cell_type": "code",
   "execution_count": 59,
   "metadata": {
    "colab": {},
    "colab_type": "code",
    "id": "Grmgj92l0auw"
   },
   "outputs": [],
   "source": [
    "import io\n",
    "import requests\n",
    "url=\"http://yustiks.ru/avocado.csv\"\n",
    "df=pd.read_csv(url)"
   ]
  },
  {
   "cell_type": "markdown",
   "metadata": {
    "colab_type": "text",
    "id": "glN4jbZu3pWz"
   },
   "source": [
    "Печатаем 5 значений"
   ]
  },
  {
   "cell_type": "code",
   "execution_count": 60,
   "metadata": {
    "colab": {
     "base_uri": "https://localhost:8080/",
     "height": 326
    },
    "colab_type": "code",
    "id": "fuynoeix3pgK",
    "outputId": "183b6bd2-6e0a-42d1-874f-3847cb6f4403"
   },
   "outputs": [
    {
     "data": {
      "text/html": [
       "<div>\n",
       "<style scoped>\n",
       "    .dataframe tbody tr th:only-of-type {\n",
       "        vertical-align: middle;\n",
       "    }\n",
       "\n",
       "    .dataframe tbody tr th {\n",
       "        vertical-align: top;\n",
       "    }\n",
       "\n",
       "    .dataframe thead th {\n",
       "        text-align: right;\n",
       "    }\n",
       "</style>\n",
       "<table border=\"1\" class=\"dataframe\">\n",
       "  <thead>\n",
       "    <tr style=\"text-align: right;\">\n",
       "      <th></th>\n",
       "      <th>Unnamed: 0</th>\n",
       "      <th>Date</th>\n",
       "      <th>AveragePrice</th>\n",
       "      <th>Total Volume</th>\n",
       "      <th>4046</th>\n",
       "      <th>4225</th>\n",
       "      <th>4770</th>\n",
       "      <th>Total Bags</th>\n",
       "      <th>Small Bags</th>\n",
       "      <th>Large Bags</th>\n",
       "      <th>XLarge Bags</th>\n",
       "      <th>type</th>\n",
       "      <th>year</th>\n",
       "      <th>region</th>\n",
       "    </tr>\n",
       "  </thead>\n",
       "  <tbody>\n",
       "    <tr>\n",
       "      <th>0</th>\n",
       "      <td>0</td>\n",
       "      <td>2015-12-27</td>\n",
       "      <td>1.33</td>\n",
       "      <td>64236.62</td>\n",
       "      <td>1036.74</td>\n",
       "      <td>54454.85</td>\n",
       "      <td>48.16</td>\n",
       "      <td>8696.87</td>\n",
       "      <td>8603.62</td>\n",
       "      <td>93.25</td>\n",
       "      <td>0.0</td>\n",
       "      <td>conventional</td>\n",
       "      <td>2015</td>\n",
       "      <td>Albany</td>\n",
       "    </tr>\n",
       "    <tr>\n",
       "      <th>1</th>\n",
       "      <td>1</td>\n",
       "      <td>2015-12-20</td>\n",
       "      <td>1.35</td>\n",
       "      <td>54876.98</td>\n",
       "      <td>674.28</td>\n",
       "      <td>44638.81</td>\n",
       "      <td>58.33</td>\n",
       "      <td>9505.56</td>\n",
       "      <td>9408.07</td>\n",
       "      <td>97.49</td>\n",
       "      <td>0.0</td>\n",
       "      <td>conventional</td>\n",
       "      <td>2015</td>\n",
       "      <td>Albany</td>\n",
       "    </tr>\n",
       "    <tr>\n",
       "      <th>2</th>\n",
       "      <td>2</td>\n",
       "      <td>2015-12-13</td>\n",
       "      <td>0.93</td>\n",
       "      <td>118220.22</td>\n",
       "      <td>794.70</td>\n",
       "      <td>109149.67</td>\n",
       "      <td>130.50</td>\n",
       "      <td>8145.35</td>\n",
       "      <td>8042.21</td>\n",
       "      <td>103.14</td>\n",
       "      <td>0.0</td>\n",
       "      <td>conventional</td>\n",
       "      <td>2015</td>\n",
       "      <td>Albany</td>\n",
       "    </tr>\n",
       "    <tr>\n",
       "      <th>3</th>\n",
       "      <td>3</td>\n",
       "      <td>2015-12-06</td>\n",
       "      <td>1.08</td>\n",
       "      <td>78992.15</td>\n",
       "      <td>1132.00</td>\n",
       "      <td>71976.41</td>\n",
       "      <td>72.58</td>\n",
       "      <td>5811.16</td>\n",
       "      <td>5677.40</td>\n",
       "      <td>133.76</td>\n",
       "      <td>0.0</td>\n",
       "      <td>conventional</td>\n",
       "      <td>2015</td>\n",
       "      <td>Albany</td>\n",
       "    </tr>\n",
       "    <tr>\n",
       "      <th>4</th>\n",
       "      <td>4</td>\n",
       "      <td>2015-11-29</td>\n",
       "      <td>1.28</td>\n",
       "      <td>51039.60</td>\n",
       "      <td>941.48</td>\n",
       "      <td>43838.39</td>\n",
       "      <td>75.78</td>\n",
       "      <td>6183.95</td>\n",
       "      <td>5986.26</td>\n",
       "      <td>197.69</td>\n",
       "      <td>0.0</td>\n",
       "      <td>conventional</td>\n",
       "      <td>2015</td>\n",
       "      <td>Albany</td>\n",
       "    </tr>\n",
       "  </tbody>\n",
       "</table>\n",
       "</div>"
      ],
      "text/plain": [
       "   Unnamed: 0        Date  AveragePrice  Total Volume     4046       4225  \\\n",
       "0           0  2015-12-27          1.33      64236.62  1036.74   54454.85   \n",
       "1           1  2015-12-20          1.35      54876.98   674.28   44638.81   \n",
       "2           2  2015-12-13          0.93     118220.22   794.70  109149.67   \n",
       "3           3  2015-12-06          1.08      78992.15  1132.00   71976.41   \n",
       "4           4  2015-11-29          1.28      51039.60   941.48   43838.39   \n",
       "\n",
       "     4770  Total Bags  Small Bags  Large Bags  XLarge Bags          type  \\\n",
       "0   48.16     8696.87     8603.62       93.25          0.0  conventional   \n",
       "1   58.33     9505.56     9408.07       97.49          0.0  conventional   \n",
       "2  130.50     8145.35     8042.21      103.14          0.0  conventional   \n",
       "3   72.58     5811.16     5677.40      133.76          0.0  conventional   \n",
       "4   75.78     6183.95     5986.26      197.69          0.0  conventional   \n",
       "\n",
       "   year  region  \n",
       "0  2015  Albany  \n",
       "1  2015  Albany  \n",
       "2  2015  Albany  \n",
       "3  2015  Albany  \n",
       "4  2015  Albany  "
      ]
     },
     "execution_count": 60,
     "metadata": {},
     "output_type": "execute_result"
    }
   ],
   "source": [
    "df[:5]"
   ]
  },
  {
   "cell_type": "markdown",
   "metadata": {
    "colab_type": "text",
    "id": "sEFsvHrz4_-e"
   },
   "source": [
    "Размер выборки:"
   ]
  },
  {
   "cell_type": "code",
   "execution_count": 55,
   "metadata": {
    "colab": {
     "base_uri": "https://localhost:8080/",
     "height": 34
    },
    "colab_type": "code",
    "id": "7Jv8Ycd_5Ej3",
    "outputId": "c8e60bd4-0792-404a-cb6d-d257c8361a69"
   },
   "outputs": [
    {
     "data": {
      "text/plain": [
       "18249"
      ]
     },
     "execution_count": 55,
     "metadata": {},
     "output_type": "execute_result"
    }
   ],
   "source": [
    "len(df)"
   ]
  },
  {
   "cell_type": "markdown",
   "metadata": {
    "colab_type": "text",
    "id": "_gAN_XSH5hw7"
   },
   "source": [
    "Нормализация значений"
   ]
  },
  {
   "cell_type": "code",
   "execution_count": 61,
   "metadata": {
    "colab": {
     "base_uri": "https://localhost:8080/",
     "height": 119
    },
    "colab_type": "code",
    "id": "hqEUSECn5glZ",
    "outputId": "666297d5-8d40-45f8-a8fe-c97c0df5a9ea"
   },
   "outputs": [
    {
     "name": "stdout",
     "output_type": "stream",
     "text": [
      "          0         1\n",
      "0  0.001026  0.000449\n",
      "1  0.000877  0.000491\n",
      "2  0.001890  0.000420\n",
      "3  0.001262  0.000300\n",
      "4  0.000815  0.000319\n"
     ]
    }
   ],
   "source": [
    "from sklearn import preprocessing\n",
    "min_max_scaler = preprocessing.MinMaxScaler(feature_range=(0,1))\n",
    "\n",
    "np_scaled = min_max_scaler.fit_transform(df[['Total Volume', 'Total Bags']])\n",
    "df_norm = pd.DataFrame(np_scaled)\n",
    "print(df_norm[:5])"
   ]
  },
  {
   "cell_type": "markdown",
   "metadata": {
    "colab_type": "text",
    "id": "XwQJ23Wt5LQL"
   },
   "source": [
    "Корелляция скорее всего между Total Volume и Total Bags "
   ]
  },
  {
   "cell_type": "code",
   "execution_count": 62,
   "metadata": {
    "colab": {},
    "colab_type": "code",
    "id": "z7LtIv0y5U47"
   },
   "outputs": [],
   "source": [
    "volume = df_norm[0]\n",
    "bags = df_norm[1]"
   ]
  },
  {
   "cell_type": "markdown",
   "metadata": {
    "colab_type": "text",
    "id": "L29CEeEg6g--"
   },
   "source": [
    "Посмотрим насколько они зависят друг от друга:"
   ]
  },
  {
   "cell_type": "code",
   "execution_count": 63,
   "metadata": {
    "colab": {
     "base_uri": "https://localhost:8080/",
     "height": 269
    },
    "colab_type": "code",
    "id": "kdxrRw2Y6klP",
    "outputId": "25da3ece-df40-4fa0-8381-da1e87ba17d3"
   },
   "outputs": [
    {
     "data": {
      "image/png": "[encoded data removed]",
      "text/plain": [
       "<matplotlib.figure.Figure at 0x1fc23190128>"
      ]
     },
     "metadata": {},
     "output_type": "display_data"
    }
   ],
   "source": [
    "plt.plot(volume, bags, 'r.')\n",
    "plt.show()"
   ]
  },
  {
   "cell_type": "code",
   "execution_count": 64,
   "metadata": {
    "colab": {
     "base_uri": "https://localhost:8080/",
     "height": 34
    },
    "colab_type": "code",
    "id": "4S9PgAj8X7FC",
    "outputId": "3037b54a-60b6-4876-fae3-ff351a9749fe"
   },
   "outputs": [
    {
     "name": "stdout",
     "output_type": "stream",
     "text": [
      "0.9630470824267297\n"
     ]
    }
   ],
   "source": [
    "corr, p_value = pearsonr(volume, bags)\n",
    "print(corr)"
   ]
  },
  {
   "cell_type": "markdown",
   "metadata": {
    "colab_type": "text",
    "id": "Hg2Z9A29IIRH"
   },
   "source": [
    "Полный список функций SciPy для работы со всеми распределениями можно найти тут: http://docs.scipy.org/doc/scipy-0.14.0/reference/stats.html"
   ]
  },
  {
   "cell_type": "markdown",
   "metadata": {
    "colab_type": "text",
    "id": "ptR-sMx3ZuQ9"
   },
   "source": [
    "Матрица корреляций."
   ]
  },
  {
   "cell_type": "code",
   "execution_count": 65,
   "metadata": {
    "colab": {
     "base_uri": "https://localhost:8080/",
     "height": 772
    },
    "colab_type": "code",
    "id": "feNUY0iGZx_l",
    "outputId": "39cfbe0e-a9a4-48cb-ed7b-01c082d3c3ea"
   },
   "outputs": [
    {
     "data": {
      "image/png": "[encoded data removed]",
      "text/plain": [
       "<matplotlib.figure.Figure at 0x1fc22cc9898>"
      ]
     },
     "metadata": {},
     "output_type": "display_data"
    }
   ],
   "source": [
    "import seaborn as sns\n",
    "sns.heatmap(df.corr(),annot=True,cmap='RdYlGn',linewidths=0.2) #data.corr()-->correlation matrix\n",
    "fig=plt.gcf()\n",
    "fig.set_size_inches(12,12)\n",
    "plt.show()\n"
   ]
  }
 ],
 "metadata": {
  "colab": {
   "include_colab_link": true,
   "name": "lecture_1.ipynb",
   "provenance": [],
   "toc_visible": true,
   "version": "0.3.2"
  },
  "kernelspec": {
   "display_name": "Python 3",
   "language": "python",
   "name": "python3"
  },
  "language_info": {
   "codemirror_mode": {
    "name": "ipython",
    "version": 3
   },
   "file_extension": ".py",
   "mimetype": "text/x-python",
   "name": "python",
   "nbconvert_exporter": "python",
   "pygments_lexer": "ipython3",
   "version": "3.6.4"
  }
 },
 "nbformat": 4,
 "nbformat_minor": 1
}
