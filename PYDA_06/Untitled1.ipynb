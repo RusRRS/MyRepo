{
 "cells": [
  {
   "cell_type": "code",
   "execution_count": 2,
   "metadata": {},
   "outputs": [
    {
     "ename": "SyntaxError",
     "evalue": "invalid syntax (<ipython-input-2-76182da9ead7>, line 3)",
     "output_type": "error",
     "traceback": [
      "\u001b[1;36m  File \u001b[1;32m\"<ipython-input-2-76182da9ead7>\"\u001b[1;36m, line \u001b[1;32m3\u001b[0m\n\u001b[1;33m    Задание 1.\u001b[0m\n\u001b[1;37m             ^\u001b[0m\n\u001b[1;31mSyntaxError\u001b[0m\u001b[1;31m:\u001b[0m invalid syntax\n"
     ]
    }
   ],
   "source": [
    "import pandas as pd\n",
    "\n",
    "Задание 1. \n",
    "* Скачайте с сайта https://grouplens.org/datasets/movielens/ датасет любого размера.\n",
    "* Определите какому фильму было выставлено больше всего оценок 5.0.\n",
    "\n",
    "**Считываем данные из файлов**\n",
    "\n",
    "# Так как по нормальному открыть не получается, допиливаем бубном\n",
    "f = open(u'C:\\\\Users\\\\RShayakhmetov\\\\Desktop\\\\Руслан\\\\12.PythonData\\\\00. УчебныеМатериалы\\\\01. PYDA\\\\PYDA_06\\\\RepoLoad_20082019\\\\ml-latest-small\\\\ratings.csv')\n",
    "ratings_df = pd.read_csv(f, sep=',', encoding='cp1251')\n",
    "f.close()\n",
    "ratings_df.head()"
   ]
  },
  {
   "cell_type": "code",
   "execution_count": null,
   "metadata": {},
   "outputs": [],
   "source": []
  }
 ],
 "metadata": {
  "kernelspec": {
   "display_name": "Python 3",
   "language": "python",
   "name": "python3"
  },
  "language_info": {
   "codemirror_mode": {
    "name": "ipython",
    "version": 3
   },
   "file_extension": ".py",
   "mimetype": "text/x-python",
   "name": "python",
   "nbconvert_exporter": "python",
   "pygments_lexer": "ipython3",
   "version": "3.6.4"
  }
 },
 "nbformat": 4,
 "nbformat_minor": 2
}
